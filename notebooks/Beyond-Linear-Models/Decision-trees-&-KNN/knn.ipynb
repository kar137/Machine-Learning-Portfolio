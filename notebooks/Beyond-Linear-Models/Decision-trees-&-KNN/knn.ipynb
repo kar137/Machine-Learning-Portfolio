{
 "cells": [
  {
   "cell_type": "markdown",
   "id": "d1080fad",
   "metadata": {},
   "source": [
    "# KNN-Classifier"
   ]
  },
  {
   "cell_type": "code",
   "execution_count": 1,
   "id": "241f7f98",
   "metadata": {},
   "outputs": [],
   "source": [
    "import numpy as np\n",
    "\n",
    "def train(X_train, y_train):\n",
    "    '''trains the K-NN classifier; i.e. storage of training data'''\n",
    "    return"
   ]
  },
  {
   "cell_type": "code",
   "execution_count": 4,
   "id": "f64ecb3e",
   "metadata": {},
   "outputs": [],
   "source": [
    "# Takes two samples x and y and computes the euclidean distance\n",
    "euclidean = lambda x,y : np.sqrt(np.sum((x-y)**2))\n",
    "\n",
    "def calculate_distance(X_new, X_train):\n",
    "  ''' Calculates distance between new sample and stored training samples'''\n",
    "\n",
    "  distances = []\n",
    "\n",
    "  for i in range(len(X_train)):\n",
    "      distances.append(euclidean(X_new,X_train[i,:]))\n",
    "  return distances"
   ]
  },
  {
   "cell_type": "code",
   "execution_count": 6,
   "id": "5097a9ce",
   "metadata": {},
   "outputs": [],
   "source": [
    "def predict_labels(y_train, distances, k):\n",
    "  near_neigh_index = np.argsort(distances)[:k] # Find indices of k nearest neighbors\n",
    "  neigh_labels = y_train[near_neigh_index]  # labels of k nearest neighbors\n",
    "\n",
    "  return neigh_labels"
   ]
  },
  {
   "cell_type": "code",
   "execution_count": 8,
   "id": "2b216f52",
   "metadata": {},
   "outputs": [],
   "source": [
    "def knn_classifier(X_train, y_train, X_test, k):\n",
    "  '''K-NN classifier : Trains and then predicts label of test set\n",
    "\n",
    "  Parameters\n",
    "  ----------\n",
    "  X_train: Numpy.array, shape(n,m)\n",
    "      training feature vector\n",
    "  y_train: Numpy.array, shape(n,)\n",
    "      training target vector\n",
    "  X_test: Numpy.array, shape(z,m)\n",
    "      Data to be classified\n",
    "  k: int\n",
    "      Number of neighbors to take into account\n",
    "\n",
    "  Returns\n",
    "  -------\n",
    "  predictions: Numpy.array, shape(z,)\n",
    "      predicted labels of X_test\n",
    "  '''\n",
    "\n",
    "  train(X_train, y_train) # Training phase\n",
    "\n",
    "  predictions = []\n",
    "\n",
    "  for i in range(len(X_test)): # Prediction phase\n",
    "    neigh_dist = calculate_distance(X_test[i,:], X_train)\n",
    "    k_labels = predict_labels(y_train, neigh_dist, k)\n",
    "    predictions.append(np.argmax(np.bincount(k_labels)))\n",
    "\n",
    "  return np.array(predictions)"
   ]
  },
  {
   "cell_type": "markdown",
   "id": "833d71da",
   "metadata": {},
   "source": [
    "## Performing knn classifier with iris dataset"
   ]
  },
  {
   "cell_type": "code",
   "execution_count": 14,
   "id": "fc75f945",
   "metadata": {},
   "outputs": [],
   "source": [
    "from sklearn.datasets import load_iris\n",
    "from sklearn.model_selection import train_test_split\n",
    "\n",
    "X_iris, y_iris = load_iris(return_X_y = True) # Loading the iris dataset\n",
    "\n",
    "X_train, X_test, y_train, y_test = train_test_split(X_iris, y_iris, test_size=0.3)"
   ]
  },
  {
   "cell_type": "code",
   "execution_count": 15,
   "id": "1e687140",
   "metadata": {},
   "outputs": [],
   "source": [
    "# Predictions of training set\n",
    "y_train_pred = knn_classifier(X_train, y_train, X_train, 3)\n",
    "\n",
    "# Predictions of test set\n",
    "y_test_pred = knn_classifier(X_train, y_train, X_test, 3)"
   ]
  },
  {
   "cell_type": "code",
   "execution_count": 16,
   "id": "a3407f66",
   "metadata": {},
   "outputs": [
    {
     "name": "stdout",
     "output_type": "stream",
     "text": [
      "\t------------------training set------------------\n",
      "              precision    recall  f1-score   support\n",
      "\n",
      "           0       1.00      1.00      1.00        32\n",
      "           1       0.95      0.97      0.96        36\n",
      "           2       0.97      0.95      0.96        37\n",
      "\n",
      "    accuracy                           0.97       105\n",
      "   macro avg       0.97      0.97      0.97       105\n",
      "weighted avg       0.97      0.97      0.97       105\n",
      "\n",
      "\t--------------------test set--------------------\n",
      "              precision    recall  f1-score   support\n",
      "\n",
      "           0       1.00      1.00      1.00        18\n",
      "           1       1.00      0.93      0.96        14\n",
      "           2       0.93      1.00      0.96        13\n",
      "\n",
      "    accuracy                           0.98        45\n",
      "   macro avg       0.98      0.98      0.98        45\n",
      "weighted avg       0.98      0.98      0.98        45\n",
      "\n"
     ]
    }
   ],
   "source": [
    "from sklearn.metrics import classification_report\n",
    "\n",
    "# Performance evaluation\n",
    "print('\\t------------------training set------------------')\n",
    "print(classification_report(y_train, y_train_pred))\n",
    "print('\\t--------------------test set--------------------')\n",
    "print(classification_report(y_test, y_test_pred))"
   ]
  },
  {
   "cell_type": "markdown",
   "id": "d39b9331",
   "metadata": {},
   "source": [
    "- performs exceptionally with accuracy of 97% on training set, and 96% on test set."
   ]
  }
 ],
 "metadata": {
  "kernelspec": {
   "display_name": "base",
   "language": "python",
   "name": "python3"
  },
  "language_info": {
   "codemirror_mode": {
    "name": "ipython",
    "version": 3
   },
   "file_extension": ".py",
   "mimetype": "text/x-python",
   "name": "python",
   "nbconvert_exporter": "python",
   "pygments_lexer": "ipython3",
   "version": "3.12.7"
  }
 },
 "nbformat": 4,
 "nbformat_minor": 5
}
