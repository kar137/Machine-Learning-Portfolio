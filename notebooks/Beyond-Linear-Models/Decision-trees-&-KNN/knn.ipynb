{
 "cells": [
  {
   "cell_type": "markdown",
   "id": "d1080fad",
   "metadata": {},
   "source": [
    "# KNN-Classifier"
   ]
  },
  {
   "cell_type": "code",
   "execution_count": 16,
   "id": "241f7f98",
   "metadata": {},
   "outputs": [],
   "source": [
    "import numpy as np\n",
    "\n",
    "def train(X_train, y_train):\n",
    "    '''trains the K-NN classifier; i.e. storage of training data'''\n",
    "    return"
   ]
  },
  {
   "cell_type": "code",
   "execution_count": 17,
   "id": "f64ecb3e",
   "metadata": {},
   "outputs": [],
   "source": [
    "# Takes two samples x and y and computes the euclidean distance\n",
    "euclidean = lambda x,y : np.sqrt(np.sum((x-y)**2))\n",
    "\n",
    "def calculate_distance(X_new, X_train):\n",
    "  ''' Calculates distance between new sample and stored training samples'''\n",
    "\n",
    "  distances = []\n",
    "\n",
    "  for i in range(len(X_train)):\n",
    "      distances.append(euclidean(X_new,X_train[i,:]))\n",
    "  return distances"
   ]
  },
  {
   "cell_type": "code",
   "execution_count": 18,
   "id": "5097a9ce",
   "metadata": {},
   "outputs": [],
   "source": [
    "def predict_labels(y_train, distances, k):\n",
    "  near_neigh_index = np.argsort(distances)[:k] # Find indices of k nearest neighbors\n",
    "  neigh_labels = y_train[near_neigh_index]  # labels of k nearest neighbors\n",
    "\n",
    "  return neigh_labels"
   ]
  },
  {
   "cell_type": "code",
   "execution_count": 19,
   "id": "2b216f52",
   "metadata": {},
   "outputs": [],
   "source": [
    "def knn_classifier(X_train, y_train, X_test, k):\n",
    "  '''K-NN classifier : Trains and then predicts label of test set\n",
    "\n",
    "  Parameters\n",
    "  ----------\n",
    "  X_train: Numpy.array, shape(n,m)\n",
    "      training feature vector\n",
    "  y_train: Numpy.array, shape(n,)\n",
    "      training target vector\n",
    "  X_test: Numpy.array, shape(z,m)\n",
    "      Data to be classified\n",
    "  k: int\n",
    "      Number of neighbors to take into account\n",
    "\n",
    "  Returns\n",
    "  -------\n",
    "  predictions: Numpy.array, shape(z,)\n",
    "      predicted labels of X_test\n",
    "  '''\n",
    "\n",
    "  train(X_train, y_train) # Training phase\n",
    "\n",
    "  predictions = []\n",
    "\n",
    "  for i in range(len(X_test)): # Prediction phase\n",
    "    neigh_dist = calculate_distance(X_test[i,:], X_train)\n",
    "    k_labels = predict_labels(y_train, neigh_dist, k)\n",
    "    predictions.append(np.argmax(np.bincount(k_labels)))\n",
    "\n",
    "  return np.array(predictions)"
   ]
  },
  {
   "cell_type": "markdown",
   "id": "833d71da",
   "metadata": {},
   "source": [
    "## Performing knn classifier with iris dataset"
   ]
  },
  {
   "cell_type": "code",
   "execution_count": 20,
   "id": "fc75f945",
   "metadata": {},
   "outputs": [],
   "source": [
    "from sklearn.datasets import load_iris\n",
    "from sklearn.model_selection import train_test_split\n",
    "\n",
    "X_iris, y_iris = load_iris(return_X_y = True) # Loading the iris dataset\n",
    "\n",
    "X_train, X_test, y_train, y_test = train_test_split(X_iris, y_iris, test_size=0.3)"
   ]
  },
  {
   "cell_type": "code",
   "execution_count": 21,
   "id": "1e687140",
   "metadata": {},
   "outputs": [],
   "source": [
    "# Predictions of training set\n",
    "y_train_pred = knn_classifier(X_train, y_train, X_train, 3)\n",
    "\n",
    "# Predictions of test set\n",
    "y_test_pred = knn_classifier(X_train, y_train, X_test, 3)"
   ]
  },
  {
   "cell_type": "code",
   "execution_count": 22,
   "id": "a3407f66",
   "metadata": {},
   "outputs": [
    {
     "name": "stdout",
     "output_type": "stream",
     "text": [
      "\t------------------training set------------------\n",
      "              precision    recall  f1-score   support\n",
      "\n",
      "           0       1.00      1.00      1.00        36\n",
      "           1       0.97      0.95      0.96        38\n",
      "           2       0.94      0.97      0.95        31\n",
      "\n",
      "    accuracy                           0.97       105\n",
      "   macro avg       0.97      0.97      0.97       105\n",
      "weighted avg       0.97      0.97      0.97       105\n",
      "\n",
      "\t--------------------test set--------------------\n",
      "              precision    recall  f1-score   support\n",
      "\n",
      "           0       1.00      1.00      1.00        14\n",
      "           1       0.92      0.92      0.92        12\n",
      "           2       0.95      0.95      0.95        19\n",
      "\n",
      "    accuracy                           0.96        45\n",
      "   macro avg       0.95      0.95      0.95        45\n",
      "weighted avg       0.96      0.96      0.96        45\n",
      "\n"
     ]
    }
   ],
   "source": [
    "from sklearn.metrics import classification_report\n",
    "\n",
    "# Performance evaluation\n",
    "print('\\t------------------training set------------------')\n",
    "print(classification_report(y_train, y_train_pred))\n",
    "print('\\t--------------------test set--------------------')\n",
    "print(classification_report(y_test, y_test_pred))"
   ]
  },
  {
   "cell_type": "markdown",
   "id": "d39b9331",
   "metadata": {},
   "source": [
    "- performs exceptionally with accuracy of 97% on training set, and 96% on test set."
   ]
  },
  {
   "cell_type": "markdown",
   "id": "1d5c9592",
   "metadata": {},
   "source": [
    "## KNN Regression"
   ]
  },
  {
   "cell_type": "code",
   "execution_count": 23,
   "id": "02408940",
   "metadata": {},
   "outputs": [],
   "source": [
    "import numpy as np\n",
    "\n",
    "class Knnregression():\n",
    "\n",
    "  def __init__(self, k):\n",
    "\n",
    "    self.k = k\n",
    "\n",
    "  def fit(self, X_train, y_train):\n",
    "\n",
    "    self.X_train = X_train\n",
    "    self.y_train = y_train\n",
    "\n",
    "  def _calculate_euc_dist_mat(self, X_test):\n",
    "\n",
    "    a = np.sum(self.X_train**2, axis=1).reshape(-1,1) # Reshaping for proper euclidean matrix.\n",
    "    b_T = np.sum(X_test**2, axis=1)\n",
    "    W = -2 * np.dot(self.X_train,X_test.T)\n",
    "    euc_mat = np.sqrt(a + b_T + W + 1e-10) # Adding small value to avoid warning.\n",
    "\n",
    "    return euc_mat\n",
    "\n",
    "  def predict(self, X_test):\n",
    "\n",
    "    self.predictions = []\n",
    "\n",
    "    dist_mat = self._calculate_euc_dist_mat(X_test)\n",
    "\n",
    "    for i in range(X_test.shape[0]):\n",
    "      distance = dist_mat[:,i] # Taking ith column of distance matrix\n",
    "      near_neigh_index = np.argsort(distance)[:self.k]\n",
    "      near_neigh_labels = self.y_train[near_neigh_index]\n",
    "\n",
    "      self.predictions.append(np.mean(near_neigh_labels)) # Aggregation\n",
    "\n",
    "    return np.array(self.predictions)"
   ]
  },
  {
   "cell_type": "markdown",
   "id": "f4834bec",
   "metadata": {},
   "source": [
    "### Performing KNN on California housing"
   ]
  },
  {
   "cell_type": "code",
   "execution_count": 24,
   "id": "7c799ca0",
   "metadata": {},
   "outputs": [
    {
     "name": "stdout",
     "output_type": "stream",
     "text": [
      "[[0.53966842 0.78431373 0.0435123  ... 0.00149943 0.5674814  0.21115538]\n",
      " [0.53802706 0.39215686 0.03822395 ... 0.00114074 0.565356   0.21215139]\n",
      " [0.46602805 1.         0.05275646 ... 0.00169796 0.5642933  0.21015936]\n",
      " ...\n",
      " [0.08276438 0.31372549 0.03090386 ... 0.0013144  0.73219979 0.31175299]\n",
      " [0.09429525 0.33333333 0.03178269 ... 0.0011515  0.73219979 0.30179283]\n",
      " [0.13025338 0.29411765 0.03125246 ... 0.00154886 0.72582359 0.30976096]]\n"
     ]
    }
   ],
   "source": [
    "from sklearn.datasets import fetch_california_housing\n",
    "from sklearn.preprocessing import MinMaxScaler\n",
    "from sklearn.model_selection import train_test_split\n",
    "\n",
    "X, y = fetch_california_housing(return_X_y=True)\n",
    "\n",
    "X_scaled = MinMaxScaler().fit_transform(X)    # KNN needs to feature scaled before modelling for regression because of dependency on distance fxn\n",
    "\n",
    "print(X_scaled)\n",
    "X_train, X_test, y_train, y_test = train_test_split(X_scaled, y, test_size=0.2, random_state=42)"
   ]
  },
  {
   "cell_type": "code",
   "execution_count": 25,
   "id": "c3a72ad6",
   "metadata": {},
   "outputs": [],
   "source": [
    "knn_reg = Knnregression(k=4)\n",
    "knn_reg.fit(X_train, y_train)\n",
    "\n",
    "knn_y_train_pred = knn_reg.predict(X_train)\n",
    "knn_y_test_pred = knn_reg.predict(X_test)"
   ]
  },
  {
   "cell_type": "markdown",
   "id": "bc75f9b1",
   "metadata": {},
   "source": [
    "### Comparing knn regression with classic linear regression model"
   ]
  },
  {
   "cell_type": "code",
   "execution_count": 26,
   "id": "350e5872",
   "metadata": {},
   "outputs": [
    {
     "name": "stdout",
     "output_type": "stream",
     "text": [
      "KNN, Training MSE: 0.24\n",
      "KNN, Test MSE: 0.42\n"
     ]
    }
   ],
   "source": [
    "from sklearn.metrics import mean_squared_error\n",
    "\n",
    "knn_train_error = mean_squared_error(y_train, knn_y_train_pred)\n",
    "knn_test_error = mean_squared_error(y_test, knn_y_test_pred)\n",
    "\n",
    "print(f'KNN, Training MSE: {knn_train_error:.2f}')\n",
    "print(f'KNN, Test MSE: {knn_test_error:.2f}')"
   ]
  },
  {
   "cell_type": "code",
   "execution_count": 27,
   "id": "f650a2ca",
   "metadata": {},
   "outputs": [
    {
     "name": "stdout",
     "output_type": "stream",
     "text": [
      "Linear Regression, Training MSE: 0.52\n",
      "Linear Regression, Test MSE: 0.56\n"
     ]
    }
   ],
   "source": [
    "from sklearn.linear_model import LinearRegression\n",
    "\n",
    "lin_reg = LinearRegression()\n",
    "\n",
    "lin_reg.fit(X_train, y_train)\n",
    "\n",
    "lin_y_train_pred = lin_reg.predict(X_train)\n",
    "lin_y_test_pred = lin_reg.predict(X_test)\n",
    "\n",
    "lin_train_error = mean_squared_error(y_train, lin_y_train_pred)\n",
    "lin_test_error = mean_squared_error(y_test, lin_y_test_pred)\n",
    "\n",
    "print(f'Linear Regression, Training MSE: {lin_train_error:.2f}')\n",
    "print(f'Linear Regression, Test MSE: {lin_test_error:.2f}')"
   ]
  },
  {
   "cell_type": "markdown",
   "id": "6a17673a",
   "metadata": {},
   "source": [
    "- The MSE errors for K-NN regression and linear regression model are around the same range, with slightly better performance of K-NN."
   ]
  },
  {
   "cell_type": "markdown",
   "id": "ab693a8a",
   "metadata": {},
   "source": [
    "## Searching nearest neighbors\n",
    "\n",
    "### Brute force method using manhattan distance metric"
   ]
  },
  {
   "cell_type": "code",
   "execution_count": 28,
   "id": "8e76b764",
   "metadata": {},
   "outputs": [
    {
     "data": {
      "text/plain": [
       "[9, 11, 3, 9, 10, 2, 3]"
      ]
     },
     "execution_count": 28,
     "metadata": {},
     "output_type": "execute_result"
    }
   ],
   "source": [
    "post_offices_loc = [(6,12), (3,7), (10,10), (8,4), (15,2), (12,11), (14,10)]\n",
    "your_loc = (12,9)\n",
    "\n",
    "# Find distance between points\n",
    "distances=[]\n",
    "for i in range(len(post_offices_loc)):\n",
    "    distances.append(abs((your_loc[0] - post_offices_loc[i][0])) + abs(your_loc[1] - post_offices_loc[i][1]))\n",
    "    \n",
    "distances"
   ]
  },
  {
   "cell_type": "code",
   "execution_count": 29,
   "id": "9a6c2495",
   "metadata": {},
   "outputs": [
    {
     "data": {
      "text/plain": [
       "(12, 11)"
      ]
     },
     "execution_count": 29,
     "metadata": {},
     "output_type": "execute_result"
    }
   ],
   "source": [
    "def get_indexes_min_value(l):\n",
    "    min_value = min(l)\n",
    "    if l.count(min_value) > 1:\n",
    "        return [i for i, x in enumerate(l) if x == min(l)]\n",
    "    else:\n",
    "        return l.index(min(l))\n",
    "    \n",
    "location = get_indexes_min_value(distances)\n",
    "post_offices_loc[location]"
   ]
  },
  {
   "cell_type": "markdown",
   "id": "8a17db47",
   "metadata": {},
   "source": [
    "### KD tree for nearest neighbor search"
   ]
  },
  {
   "cell_type": "code",
   "execution_count": 30,
   "id": "a7fab75d",
   "metadata": {},
   "outputs": [
    {
     "name": "stdout",
     "output_type": "stream",
     "text": [
      "[[0.5488135  0.71518937]\n",
      " [0.60276338 0.54488318]\n",
      " [0.4236548  0.64589411]\n",
      " [0.43758721 0.891773  ]\n",
      " [0.96366276 0.38344152]\n",
      " [0.79172504 0.52889492]\n",
      " [0.56804456 0.92559664]\n",
      " [0.07103606 0.0871293 ]\n",
      " [0.0202184  0.83261985]\n",
      " [0.77815675 0.87001215]]\n",
      "\n",
      "\n",
      "[[0 2 1]]\n",
      "[[0.         0.14306129 0.1786471 ]]\n"
     ]
    }
   ],
   "source": [
    "import numpy as np\n",
    "from sklearn.neighbors import KDTree\n",
    "\n",
    "rng = np.random.RandomState(0)\n",
    "X = rng.random_sample((10, 2))  # 10 points in 3 dimensions\n",
    "print(X)\n",
    "print(\"\\n\")\n",
    "tree = KDTree(X, leaf_size=2)\n",
    "\n",
    "dist, ind = tree.query(X[:1], k=3)                \n",
    "print(ind)  # indices of 3 closest neighbors\n",
    "print(dist)  # distances to 3 closest neighbors"
   ]
  },
  {
   "cell_type": "markdown",
   "id": "7e8533ba",
   "metadata": {},
   "source": [
    "## Brute force method in detail"
   ]
  },
  {
   "cell_type": "code",
   "execution_count": 31,
   "id": "e80f0419",
   "metadata": {},
   "outputs": [],
   "source": [
    "import numpy as np\n",
    "import random\n",
    "import operator"
   ]
  },
  {
   "cell_type": "code",
   "execution_count": 38,
   "id": "25957cb2",
   "metadata": {},
   "outputs": [],
   "source": [
    "from sklearn.datasets import make_blobs\n",
    "import numpy as np\n",
    "\n",
    "#set seed for reproducibility\n",
    "np.random.seed(1)\n",
    "\n",
    "X1, Y1 = make_blobs(n_features=2, centers=3, random_state=1, n_samples=200, cluster_std=2)"
   ]
  },
  {
   "cell_type": "code",
   "execution_count": 36,
   "id": "ebd61d36",
   "metadata": {},
   "outputs": [
    {
     "data": {
      "image/png": "[encoded data removed]",
      "text/plain": [
       "<Figure size 640x480 with 1 Axes>"
      ]
     },
     "metadata": {},
     "output_type": "display_data"
    }
   ],
   "source": [
    "import seaborn as sns\n",
    "ax = sns.scatterplot(x=X1[:,0], y= X1[:,1], hue=Y1 , s=30, palette=['green','orange','dodgerblue'], legend='full')"
   ]
  },
  {
   "cell_type": "markdown",
   "id": "8d12ab0d",
   "metadata": {},
   "source": [
    "- I can use skleran train_test_split and find 1-NN of multiple values. In this case it will be complex. For simplicity I will consider one point."
   ]
  },
  {
   "cell_type": "code",
   "execution_count": 39,
   "id": "2b1aaa9f",
   "metadata": {},
   "outputs": [],
   "source": [
    "q = np.array([-0.77, 5.5])  #query point"
   ]
  },
  {
   "cell_type": "code",
   "execution_count": 41,
   "id": "b7da04ff",
   "metadata": {},
   "outputs": [],
   "source": [
    "# function to find euclidean distance\n",
    "def find_distance(query, data):\n",
    "  dist=list()\n",
    "  for index in range(len(data)):\n",
    "      dist.append(np.sqrt(np.sum((query - data[index])**2)) )\n",
    "  return dist"
   ]
  },
  {
   "cell_type": "code",
   "execution_count": 42,
   "id": "369cd527",
   "metadata": {},
   "outputs": [
    {
     "data": {
      "text/plain": [
       "[np.float64(17.346147496036416),\n",
       " np.float64(15.83337307077492),\n",
       " np.float64(13.9123774588038),\n",
       " np.float64(11.924975479004527),\n",
       " np.float64(12.796684329689311)]"
      ]
     },
     "execution_count": 42,
     "metadata": {},
     "output_type": "execute_result"
    }
   ],
   "source": [
    "dist = find_distance(q,X1)\n",
    "dist[:5]"
   ]
  },
  {
   "cell_type": "code",
   "execution_count": 43,
   "id": "0deba4f0",
   "metadata": {},
   "outputs": [],
   "source": [
    "dist = enumerate(dist)   # index, value pair"
   ]
  },
  {
   "cell_type": "code",
   "execution_count": 44,
   "id": "9cae8784",
   "metadata": {},
   "outputs": [
    {
     "data": {
      "text/plain": [
       "[(128, np.float64(0.12485448854556064)),\n",
       " (158, np.float64(0.5843445913095896)),\n",
       " (153, np.float64(0.6080293992576578)),\n",
       " (101, np.float64(0.6643544863472753)),\n",
       " (6, np.float64(0.7479236445215508))]"
      ]
     },
     "execution_count": 44,
     "metadata": {},
     "output_type": "execute_result"
    }
   ],
   "source": [
    "sorted_data = sorted(dist, key=lambda x:x[1])\n",
    "sorted_data[:5]"
   ]
  },
  {
   "cell_type": "code",
   "execution_count": 45,
   "id": "fd5ca091",
   "metadata": {},
   "outputs": [],
   "source": [
    "k = 1  # nearest neighbor value"
   ]
  },
  {
   "cell_type": "code",
   "execution_count": 46,
   "id": "e3e23850",
   "metadata": {},
   "outputs": [
    {
     "data": {
      "text/plain": [
       "[128]"
      ]
     },
     "execution_count": 46,
     "metadata": {},
     "output_type": "execute_result"
    }
   ],
   "source": [
    "data_index = list(next(zip(*sorted_data)))[:k]   #zip creates tuple of indices and values, \n",
    "                                                 #next takes the first tuple, list converts tuple to list\n",
    "data_index"
   ]
  },
  {
   "cell_type": "markdown",
   "id": "1d6ba566",
   "metadata": {},
   "source": [
    "### Find Candidate Output Class"
   ]
  },
  {
   "cell_type": "code",
   "execution_count": 47,
   "id": "ac9b2e38",
   "metadata": {},
   "outputs": [
    {
     "data": {
      "text/plain": [
       "array([0])"
      ]
     },
     "execution_count": 47,
     "metadata": {},
     "output_type": "execute_result"
    }
   ],
   "source": [
    "output_class_candidate = np.take(Y1, data_index)\n",
    "output_class_candidate"
   ]
  },
  {
   "cell_type": "markdown",
   "id": "7867e882",
   "metadata": {},
   "source": [
    "- The output is zero; therefore the query point belongs to class zero."
   ]
  },
  {
   "cell_type": "markdown",
   "id": "30fc394a",
   "metadata": {},
   "source": [
    "### Vote Candidates Output Class and Choose Maximum Voted Class"
   ]
  },
  {
   "cell_type": "code",
   "execution_count": 48,
   "id": "b6bcd213",
   "metadata": {},
   "outputs": [
    {
     "data": {
      "text/plain": [
       "np.int64(0)"
      ]
     },
     "execution_count": 48,
     "metadata": {},
     "output_type": "execute_result"
    }
   ],
   "source": [
    "# if k>1\n",
    "output_after_voting = np.bincount(output_class_candidate).argmax()\n",
    "output_after_voting"
   ]
  },
  {
   "cell_type": "code",
   "execution_count": 54,
   "id": "be947400",
   "metadata": {},
   "outputs": [
    {
     "data": {
      "text/plain": [
       "np.float64(5.593646915317295)"
      ]
     },
     "execution_count": 54,
     "metadata": {},
     "output_type": "execute_result"
    }
   ],
   "source": [
    "X1[data_index][0][1]   # X1[data_index] -> calculates the value of X1 of the index, X1[data_index][0] -> first row of X1[data_index], X1[data_index][0][1] -> second feature of X1[data_index][0]"
   ]
  },
  {
   "cell_type": "code",
   "execution_count": 50,
   "id": "7cfcdf23",
   "metadata": {},
   "outputs": [
    {
     "data": {
      "text/plain": [
       "<Axes: >"
      ]
     },
     "execution_count": 50,
     "metadata": {},
     "output_type": "execute_result"
    },
    {
     "data": {
      "image/png": "[encoded data removed]",
      "text/plain": [
       "<Figure size 640x480 with 1 Axes>"
      ]
     },
     "metadata": {},
     "output_type": "display_data"
    }
   ],
   "source": [
    "sns.scatterplot(x= X1[:,0], y= X1[:,1], hue=Y1 , s=30, palette=['green','orange','dodgerblue'], legend='full')\n",
    "sns.scatterplot(x = [q[0]], y = [q[1]], color='red', marker='o',s=30,legend='full')\n",
    "sns.scatterplot(x = [X1[data_index][0][0]], y = [X1[data_index][0][1]], color='black', marker='o',s=30,legend='full')"
   ]
  },
  {
   "cell_type": "markdown",
   "id": "7fff78ac",
   "metadata": {},
   "source": [
    "- The red dot represents the query point. It lies in the crowd of green color dots. Therefore output class must be zero. My prediction is correct."
   ]
  }
 ],
 "metadata": {
  "kernelspec": {
   "display_name": "base",
   "language": "python",
   "name": "python3"
  },
  "language_info": {
   "codemirror_mode": {
    "name": "ipython",
    "version": 3
   },
   "file_extension": ".py",
   "mimetype": "text/x-python",
   "name": "python",
   "nbconvert_exporter": "python",
   "pygments_lexer": "ipython3",
   "version": "3.12.7"
  }
 },
 "nbformat": 4,
 "nbformat_minor": 5
}
