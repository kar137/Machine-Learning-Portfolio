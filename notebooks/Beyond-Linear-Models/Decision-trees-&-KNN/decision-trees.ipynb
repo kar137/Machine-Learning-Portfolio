{
 "cells": [
  {
   "cell_type": "markdown",
   "id": "c7c4937c",
   "metadata": {},
   "source": [
    "## Computing gini impurity for Breast cancer classification"
   ]
  },
  {
   "cell_type": "code",
   "execution_count": 36,
   "id": "92dc2610",
   "metadata": {},
   "outputs": [
    {
     "name": "stdout",
     "output_type": "stream",
     "text": [
      "0.00\n",
      "0.18\n",
      "0.48\n",
      "0.50\n"
     ]
    }
   ],
   "source": [
    "import numpy as np\n",
    "\n",
    "def compute_gini(class_frequencies):\n",
    "    probabilities = class_frequencies / np.sum(class_frequencies)\n",
    "    gini = 1 - np.sum(probabilities ** 2)\n",
    "    return gini\n",
    "\n",
    "class_dist_matrix = np.array([\n",
    "    [150, 0],\n",
    "    [10, 90],\n",
    "    [60, 40],\n",
    "    [50, 50]\n",
    "])\n",
    "\n",
    "for num_cases in range(len(class_dist_matrix)):\n",
    "    class_dist = class_dist_matrix[num_cases,:]\n",
    "    gini_impurity = compute_gini(class_dist)\n",
    "    print(\"{:.2f}\".format(gini_impurity))"
   ]
  },
  {
   "cell_type": "markdown",
   "id": "14b49972",
   "metadata": {},
   "source": [
    "## Decision tree implementation with python from scratch"
   ]
  },
  {
   "cell_type": "code",
   "execution_count": 37,
   "id": "f323c9ad",
   "metadata": {},
   "outputs": [
    {
     "name": "stdout",
     "output_type": "stream",
     "text": [
      "Feature Names: ['sepal length (cm)', 'sepal width (cm)', 'petal length (cm)', 'petal width (cm)']\n",
      "Target Names: ['setosa' 'versicolor' 'virginica']\n"
     ]
    }
   ],
   "source": [
    "# Let's import the necessary libraries.\n",
    "import numpy as np\n",
    "import pandas as pd\n",
    "import matplotlib.pyplot as plt\n",
    "import random\n",
    "\n",
    "from sklearn.metrics import accuracy_score, ConfusionMatrixDisplay\n",
    "from sklearn import datasets\n",
    "\n",
    "iris = datasets.load_iris()\n",
    "\n",
    "# convert the data into dataframe\n",
    "data = pd.DataFrame(data= np.c_[iris['data'], iris['target']],\n",
    "                     columns= iris['feature_names'] + ['target'])\n",
    "data.head()\n",
    "\n",
    "feature_names, class_names = iris.feature_names, iris.target_names\n",
    "print(\"Feature Names:\", feature_names)\n",
    "print(\"Target Names:\", class_names)"
   ]
  },
  {
   "cell_type": "code",
   "execution_count": 38,
   "id": "5d7734be",
   "metadata": {},
   "outputs": [],
   "source": [
    "# Function to split dataset into train and test set\n",
    "def train_test_split(df, test_size):\n",
    "  if isinstance(test_size, float):\n",
    "      test_size = round(test_size * len(df))\n",
    "\n",
    "  indices = df.index.tolist()\n",
    "  test_indices = random.sample(population=indices, k=test_size)\n",
    "\n",
    "  test_df = df.loc[test_indices]\n",
    "  train_df = df.drop(test_indices)\n",
    "\n",
    "  return train_df, test_df"
   ]
  },
  {
   "cell_type": "code",
   "execution_count": 39,
   "id": "7006a70c",
   "metadata": {},
   "outputs": [
    {
     "data": {
      "text/plain": [
       "((130, 5), (20, 5))"
      ]
     },
     "execution_count": 39,
     "metadata": {},
     "output_type": "execute_result"
    }
   ],
   "source": [
    "# let's try the function to split into train and test from above data\n",
    "random.seed(0)  # Ensures same reproducibility\n",
    "train_df, test_df = train_test_split(data, test_size=20)\n",
    "train_df.shape, test_df.shape"
   ]
  },
  {
   "cell_type": "markdown",
   "id": "2d284140",
   "metadata": {},
   "source": [
    "## Helper Functions"
   ]
  },
  {
   "cell_type": "code",
   "execution_count": 40,
   "id": "d222bf7e",
   "metadata": {},
   "outputs": [],
   "source": [
    "# function to calculate gini impurity\n",
    "def compute_gini_metric(data):\n",
    "  label_column = data[:, -1]\n",
    "  _ , counts = np.unique(label_column, return_counts=True)\n",
    "  probabilities = counts/counts.sum()\n",
    "  gini = 1 - sum(probabilities ** 2)\n",
    "\n",
    "  return gini"
   ]
  },
  {
   "cell_type": "code",
   "execution_count": 41,
   "id": "8ff03555",
   "metadata": {},
   "outputs": [
    {
     "name": "stdout",
     "output_type": "stream",
     "text": [
      "0.6660355029585798\n"
     ]
    }
   ],
   "source": [
    "print(compute_gini_metric(train_df.to_numpy()))"
   ]
  },
  {
   "cell_type": "code",
   "execution_count": 42,
   "id": "14ede688",
   "metadata": {},
   "outputs": [],
   "source": [
    "# function to compute weighted gini for given nodes\n",
    "def compute_weighted_gini(left_child, right_child):\n",
    "  n = len(left_child) + len(right_child)\n",
    "  p_left_child = len(left_child) / n\n",
    "  p_right_child = len(right_child) / n\n",
    "\n",
    "  weighted_gini =  (p_left_child * compute_gini(left_child)\n",
    "                      + p_right_child * compute_gini(right_child))\n",
    "\n",
    "  return weighted_gini"
   ]
  },
  {
   "cell_type": "code",
   "execution_count": 43,
   "id": "0ee13551",
   "metadata": {},
   "outputs": [],
   "source": [
    "# splits the data into two halves given the split values\n",
    "def split_data(data, split_column, split_value):\n",
    "  split_column_values = data[:, split_column]\n",
    "\n",
    "  left_child = data[split_column_values <= split_value]\n",
    "  right_child = data[split_column_values > split_value]\n",
    "\n",
    "  return left_child, right_child"
   ]
  },
  {
   "cell_type": "code",
   "execution_count": 44,
   "id": "dc006132",
   "metadata": {},
   "outputs": [],
   "source": [
    "# finds out all the potential splits for all feature columns in daytaset \n",
    "def get_potential_splits(data):\n",
    "  potential_splits = {}\n",
    "  _, n_columns = data.shape\n",
    "  for column_index in range(n_columns - 1):   # Excluding the last column which is the label\n",
    "      potential_splits[column_index] = []\n",
    "      values = data[:, column_index]\n",
    "      unique_values = np.unique(values)\n",
    "\n",
    "      for index in range(len(unique_values)):\n",
    "          if index != 0:\n",
    "              current_value = unique_values[index]\n",
    "              previous_value = unique_values[index - 1]\n",
    "              potential_split = (current_value + previous_value) / 2\n",
    "\n",
    "              potential_splits[column_index].append(potential_split)\n",
    "\n",
    "  return potential_splits\n",
    "\n",
    "# gets the best split with lowest gini impurity\n",
    "def determine_best_split(data, potential_splits):\n",
    "  overall_gini = 9999    \n",
    "\n",
    "  for column_index in potential_splits:\n",
    "      for value in potential_splits[column_index]:\n",
    "          data_below, data_above = split_data(data, split_column=column_index, split_value=value)\n",
    "          current_overall_gini = compute_weighted_gini(data_below, data_above)\n",
    "\n",
    "          if current_overall_gini <= overall_gini:\n",
    "              overall_gini = current_overall_gini\n",
    "              best_split_column = column_index\n",
    "              best_split_value = value\n",
    "\n",
    "  return best_split_column, best_split_value"
   ]
  },
  {
   "cell_type": "code",
   "execution_count": 45,
   "id": "345b28a0",
   "metadata": {},
   "outputs": [],
   "source": [
    "# class to represent Node in a decision tree node\n",
    "class Node:\n",
    "  def __init__(self, parent=None, left_child=None, right_child=None, data=None,\n",
    "              gini=None, label=None, is_leaf=None, split_column=None,\n",
    "              split_value=None, question=None, depth=None):\n",
    "    self.parent = parent              \n",
    "    self.left_child = left_child     \n",
    "    self.right_child = right_child   \n",
    "    self.data = data          \n",
    "    self.label = label            \n",
    "    self.is_leaf = is_leaf            \n",
    "    self.split_column = split_column  \n",
    "    self.split_value = split_value  \n",
    "    self.question = question     \n",
    "    self.depth = depth      \n",
    "\n",
    "  def is_pure(self):     # checks if the node is pure or not\n",
    "    target = self.data[:, -1]\n",
    "    unique_classes = np.unique(target)\n",
    "    if len(unique_classes) == 1:\n",
    "        return True\n",
    "    else:\n",
    "        return False\n",
    "\n",
    "  def set_label(self):   # assigns a label to a node\n",
    "    target = self.data[:, -1]\n",
    "    unique_classes, counts_unique_classes = np.unique(target, return_counts=True)\n",
    "\n",
    "    index = counts_unique_classes.argmax()\n",
    "    classification = unique_classes[index]\n",
    "    self.label = classification"
   ]
  },
  {
   "cell_type": "code",
   "execution_count": 46,
   "id": "f5b9ad9e",
   "metadata": {},
   "outputs": [],
   "source": [
    "# Class to represent Decision tree\n",
    "class DecisionTree:\n",
    "  def __init__(self,min_samples=2, max_depth=9999, root=None, features=None):\n",
    "      self.root = root                # Root node of the decision tree\n",
    "      self.root.depth = 0             # Depth of root, a constant value set to 0\n",
    "      self.max_depth = max_depth      # Maximum allowed depth for the decision tree\n",
    "      self.features = features        # Names of features of the data\n",
    "      self.min_samples = min_samples  # Minimum samples allowed in a node\n",
    "\n",
    "  def train_tree(self, node):\n",
    "      \"\"\"Recursively trains a decision tree\"\"\"\n",
    "      if node.parent:\n",
    "          node.depth = node.parent.depth + 1\n",
    "\n",
    "      if node.is_pure() or len(node.data)<=self.min_samples or node.depth == self.max_depth:\n",
    "          node.is_leaf = True\n",
    "          node.set_label()\n",
    "\n",
    "      else:\n",
    "          potential_splits = get_potential_splits(node.data)\n",
    "          split_column, split_value = determine_best_split(node.data,\n",
    "                                                          potential_splits)\n",
    "\n",
    "          node.split_column = split_column\n",
    "          node.split_value = split_value\n",
    "\n",
    "          data_below, data_above = split_data(node.data, split_column,\n",
    "                                              split_value)\n",
    "\n",
    "          node_left = Node(parent=node, data=data_below)\n",
    "          node_right = Node(parent=node, data=data_above)\n",
    "\n",
    "          node.left_child = node_left\n",
    "          node.right_child = node_right\n",
    "          node.question = \"{} <= {}\".format(self.features[split_column], split_value)\n",
    "\n",
    "          self.train_tree(node_left)\n",
    "          self.train_tree(node_right)\n",
    "\n",
    "  def predict(self, X):\n",
    "      \"\"\"Predicts class label(s) for one or more instances\"\"\"\n",
    "      if X.ndim == 1:\n",
    "          return self._predict_instance(X)\n",
    "      else:\n",
    "          return np.array([self._predict_instance(instance) for instance in X])\n",
    "\n",
    "  def _predict_instance(self, instance):\n",
    "      node = self.root\n",
    "      while not node.is_leaf:\n",
    "          if instance[node.split_column] <= node.split_value:\n",
    "              node = node.left_child\n",
    "          else:\n",
    "              node = node.right_child\n",
    "      return node.label\n",
    "\n",
    "\n",
    "  def get_root(self):\n",
    "      \"\"\"Returns the root node of the decision tree\"\"\"\n",
    "      return self.root"
   ]
  },
  {
   "cell_type": "code",
   "execution_count": 47,
   "id": "40c67100",
   "metadata": {},
   "outputs": [],
   "source": [
    "root = Node(data=train_df.values)"
   ]
  },
  {
   "cell_type": "code",
   "execution_count": 48,
   "id": "26d5deb6",
   "metadata": {},
   "outputs": [],
   "source": [
    "features = ['sepal length', 'sepal width', 'petal length', 'petal width']\n",
    "\n",
    "my_tree = DecisionTree(root=root, features=features)\n",
    "my_tree.train_tree(root)"
   ]
  },
  {
   "cell_type": "code",
   "execution_count": 49,
   "id": "6213d1ab",
   "metadata": {},
   "outputs": [
    {
     "name": "stdout",
     "output_type": "stream",
     "text": [
      "2.0\n"
     ]
    }
   ],
   "source": [
    "sample = test_df.values[1][:4]\n",
    "label_test = None           \n",
    "label_test = my_tree.predict(sample)\n",
    "print(label_test)"
   ]
  },
  {
   "cell_type": "code",
   "execution_count": 50,
   "id": "f06e68bb",
   "metadata": {},
   "outputs": [
    {
     "data": {
      "text/plain": [
       "array([1., 2., 0., 1., 2., 2., 2., 2., 2., 1., 2., 1., 1., 0., 1., 0., 1.,\n",
       "       2., 0., 1.])"
      ]
     },
     "execution_count": 50,
     "metadata": {},
     "output_type": "execute_result"
    }
   ],
   "source": [
    "# let's predict for unseen data\n",
    "X_test = test_df.iloc[:, :-1].values  # All columns except the last (features)\n",
    "y_test = test_df.iloc[:, -1].values   # Only the last column (target)\n",
    "\n",
    "y_pred = my_tree.predict(X_test)\n",
    "y_pred"
   ]
  },
  {
   "cell_type": "code",
   "execution_count": 51,
   "id": "a6c78d69",
   "metadata": {},
   "outputs": [
    {
     "name": "stdout",
     "output_type": "stream",
     "text": [
      "Accuracy: 0.90\n"
     ]
    }
   ],
   "source": [
    "# Accuracy Score\n",
    "accuracy = accuracy_score(y_test, y_pred)\n",
    "print(f\"Accuracy: {accuracy:.2f}\")"
   ]
  },
  {
   "cell_type": "code",
   "execution_count": 52,
   "id": "e4c62e57",
   "metadata": {},
   "outputs": [
    {
     "data": {
      "image/png": "[encoded data removed]",
      "text/plain": [
       "<Figure size 640x480 with 2 Axes>"
      ]
     },
     "metadata": {},
     "output_type": "display_data"
    }
   ],
   "source": [
    "# Plotting confusion matrix\n",
    "from sklearn.metrics import ConfusionMatrixDisplay\n",
    "disp = ConfusionMatrixDisplay.from_predictions(y_test, y_pred,display_labels=class_names)\n",
    "plt.show()"
   ]
  }
 ],
 "metadata": {
  "kernelspec": {
   "display_name": "base",
   "language": "python",
   "name": "python3"
  },
  "language_info": {
   "codemirror_mode": {
    "name": "ipython",
    "version": 3
   },
   "file_extension": ".py",
   "mimetype": "text/x-python",
   "name": "python",
   "nbconvert_exporter": "python",
   "pygments_lexer": "ipython3",
   "version": "3.12.7"
  }
 },
 "nbformat": 4,
 "nbformat_minor": 5
}
