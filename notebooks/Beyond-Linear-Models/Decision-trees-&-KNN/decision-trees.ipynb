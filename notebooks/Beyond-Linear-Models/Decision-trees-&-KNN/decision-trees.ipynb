{
 "cells": [
  {
   "cell_type": "markdown",
   "id": "c7c4937c",
   "metadata": {},
   "source": [
    "## Computing gini impurity for Breast cancer classification"
   ]
  },
  {
   "cell_type": "code",
   "execution_count": 1,
   "id": "92dc2610",
   "metadata": {},
   "outputs": [
    {
     "name": "stdout",
     "output_type": "stream",
     "text": [
      "0.00\n",
      "0.18\n",
      "0.48\n",
      "0.50\n"
     ]
    }
   ],
   "source": [
    "import numpy as np\n",
    "\n",
    "def compute_gini(class_frequencies):\n",
    "    probabilities = class_frequencies / np.sum(class_frequencies)\n",
    "    gini = 1 - np.sum(probabilities ** 2)\n",
    "    return gini\n",
    "\n",
    "class_dist_matrix = np.array([\n",
    "    [150, 0],\n",
    "    [10, 90],\n",
    "    [60, 40],\n",
    "    [50, 50]\n",
    "])\n",
    "\n",
    "for num_cases in range(len(class_dist_matrix)):\n",
    "    class_dist = class_dist_matrix[num_cases,:]\n",
    "    gini_impurity = compute_gini(class_dist)\n",
    "    print(\"{:.2f}\".format(gini_impurity))"
   ]
  },
  {
   "cell_type": "markdown",
   "id": "14b49972",
   "metadata": {},
   "source": [
    "## Decision tree implementation with python from scratch"
   ]
  },
  {
   "cell_type": "code",
   "execution_count": null,
   "id": "f323c9ad",
   "metadata": {},
   "outputs": [
    {
     "data": {
      "text/html": [
       "<div>\n",
       "<style scoped>\n",
       "    .dataframe tbody tr th:only-of-type {\n",
       "        vertical-align: middle;\n",
       "    }\n",
       "\n",
       "    .dataframe tbody tr th {\n",
       "        vertical-align: top;\n",
       "    }\n",
       "\n",
       "    .dataframe thead th {\n",
       "        text-align: right;\n",
       "    }\n",
       "</style>\n",
       "<table border=\"1\" class=\"dataframe\">\n",
       "  <thead>\n",
       "    <tr style=\"text-align: right;\">\n",
       "      <th></th>\n",
       "      <th>sepal length (cm)</th>\n",
       "      <th>sepal width (cm)</th>\n",
       "      <th>petal length (cm)</th>\n",
       "      <th>petal width (cm)</th>\n",
       "      <th>target</th>\n",
       "    </tr>\n",
       "  </thead>\n",
       "  <tbody>\n",
       "    <tr>\n",
       "      <th>0</th>\n",
       "      <td>5.1</td>\n",
       "      <td>3.5</td>\n",
       "      <td>1.4</td>\n",
       "      <td>0.2</td>\n",
       "      <td>0.0</td>\n",
       "    </tr>\n",
       "    <tr>\n",
       "      <th>1</th>\n",
       "      <td>4.9</td>\n",
       "      <td>3.0</td>\n",
       "      <td>1.4</td>\n",
       "      <td>0.2</td>\n",
       "      <td>0.0</td>\n",
       "    </tr>\n",
       "    <tr>\n",
       "      <th>2</th>\n",
       "      <td>4.7</td>\n",
       "      <td>3.2</td>\n",
       "      <td>1.3</td>\n",
       "      <td>0.2</td>\n",
       "      <td>0.0</td>\n",
       "    </tr>\n",
       "    <tr>\n",
       "      <th>3</th>\n",
       "      <td>4.6</td>\n",
       "      <td>3.1</td>\n",
       "      <td>1.5</td>\n",
       "      <td>0.2</td>\n",
       "      <td>0.0</td>\n",
       "    </tr>\n",
       "    <tr>\n",
       "      <th>4</th>\n",
       "      <td>5.0</td>\n",
       "      <td>3.6</td>\n",
       "      <td>1.4</td>\n",
       "      <td>0.2</td>\n",
       "      <td>0.0</td>\n",
       "    </tr>\n",
       "  </tbody>\n",
       "</table>\n",
       "</div>"
      ],
      "text/plain": [
       "   sepal length (cm)  sepal width (cm)  petal length (cm)  petal width (cm)  \\\n",
       "0                5.1               3.5                1.4               0.2   \n",
       "1                4.9               3.0                1.4               0.2   \n",
       "2                4.7               3.2                1.3               0.2   \n",
       "3                4.6               3.1                1.5               0.2   \n",
       "4                5.0               3.6                1.4               0.2   \n",
       "\n",
       "   target  \n",
       "0     0.0  \n",
       "1     0.0  \n",
       "2     0.0  \n",
       "3     0.0  \n",
       "4     0.0  "
      ]
     },
     "execution_count": 4,
     "metadata": {},
     "output_type": "execute_result"
    }
   ],
   "source": [
    "# Let's import the necessary libraries.\n",
    "import numpy as np\n",
    "import pandas as pd\n",
    "import matplotlib.pyplot as plt\n",
    "import random\n",
    "\n",
    "from sklearn.metrics import accuracy_score, ConfusionMatrixDisplay\n",
    "from sklearn import datasets\n",
    "\n",
    "iris = datasets.load_iris()\n",
    "\n",
    "# convert the data into dataframe\n",
    "data = pd.DataFrame(data= np.c_[iris['data'], iris['target']],\n",
    "                     columns= iris['feature_names'] + ['target'])\n",
    "data.head()"
   ]
  },
  {
   "cell_type": "code",
   "execution_count": 5,
   "id": "5d7734be",
   "metadata": {},
   "outputs": [],
   "source": [
    "# Function to split dataset into train and test set\n",
    "def train_test_split(df, test_size):\n",
    "  if isinstance(test_size, float):\n",
    "      test_size = round(test_size * len(df))\n",
    "\n",
    "  indices = df.index.tolist()\n",
    "  test_indices = random.sample(population=indices, k=test_size)\n",
    "\n",
    "  test_df = df.loc[test_indices]\n",
    "  train_df = df.drop(test_indices)\n",
    "\n",
    "  return train_df, test_df"
   ]
  },
  {
   "cell_type": "code",
   "execution_count": 7,
   "id": "7006a70c",
   "metadata": {},
   "outputs": [
    {
     "data": {
      "text/plain": [
       "((130, 5), (20, 5))"
      ]
     },
     "execution_count": 7,
     "metadata": {},
     "output_type": "execute_result"
    }
   ],
   "source": [
    "# let's try the function to split into train and test from above data\n",
    "random.seed(0)  # Ensures same reproducibility\n",
    "train_df, test_df = train_test_split(data, test_size=20)\n",
    "train_df.shape, test_df.shape"
   ]
  },
  {
   "cell_type": "markdown",
   "id": "2d284140",
   "metadata": {},
   "source": [
    "## Helper Functions"
   ]
  },
  {
   "cell_type": "code",
   "execution_count": 8,
   "id": "d222bf7e",
   "metadata": {},
   "outputs": [],
   "source": [
    "# function to calculate gini impurity\n",
    "def compute_gini_metric(data):\n",
    "  label_column = data[:, -1]\n",
    "  _ , counts = np.unique(label_column, return_counts=True)\n",
    "  probabilities = counts/counts.sum()\n",
    "  gini = 1 - sum(probabilities ** 2)\n",
    "\n",
    "  return gini"
   ]
  },
  {
   "cell_type": "code",
   "execution_count": 9,
   "id": "8ff03555",
   "metadata": {},
   "outputs": [
    {
     "name": "stdout",
     "output_type": "stream",
     "text": [
      "0.6660355029585798\n"
     ]
    }
   ],
   "source": [
    "print(compute_gini_metric(train_df.to_numpy()))"
   ]
  },
  {
   "cell_type": "code",
   "execution_count": 11,
   "id": "14ede688",
   "metadata": {},
   "outputs": [],
   "source": [
    "# function to compute weighted gini for given nodes\n",
    "def compute_weighted_gini(left_child, right_child):\n",
    "  n = len(left_child) + len(right_child)\n",
    "  p_left_child = len(left_child) / n\n",
    "  p_right_child = len(right_child) / n\n",
    "\n",
    "  weighted_gini =  (p_left_child * compute_gini(left_child)\n",
    "                      + p_right_child * compute_gini(right_child))\n",
    "\n",
    "  return weighted_gini"
   ]
  },
  {
   "cell_type": "code",
   "execution_count": 12,
   "id": "0ee13551",
   "metadata": {},
   "outputs": [],
   "source": [
    "# splits the data into two halves given the split values\n",
    "def split_data(data, split_column, split_value):\n",
    "  split_column_values = data[:, split_column]\n",
    "\n",
    "  left_child = data[split_column_values <= split_value]\n",
    "  right_child = data[split_column_values > split_value]\n",
    "\n",
    "  return left_child, right_child"
   ]
  },
  {
   "cell_type": "code",
   "execution_count": null,
   "id": "dc006132",
   "metadata": {},
   "outputs": [],
   "source": []
  }
 ],
 "metadata": {
  "kernelspec": {
   "display_name": "base",
   "language": "python",
   "name": "python3"
  },
  "language_info": {
   "codemirror_mode": {
    "name": "ipython",
    "version": 3
   },
   "file_extension": ".py",
   "mimetype": "text/x-python",
   "name": "python",
   "nbconvert_exporter": "python",
   "pygments_lexer": "ipython3",
   "version": "3.12.7"
  }
 },
 "nbformat": 4,
 "nbformat_minor": 5
}
