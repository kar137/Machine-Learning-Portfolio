{
 "cells": [
  {
   "cell_type": "markdown",
   "id": "c7c4937c",
   "metadata": {},
   "source": [
    "## Computing gini impurity for Breast cancer classification"
   ]
  },
  {
   "cell_type": "code",
   "execution_count": 1,
   "id": "92dc2610",
   "metadata": {},
   "outputs": [
    {
     "name": "stdout",
     "output_type": "stream",
     "text": [
      "0.00\n",
      "0.18\n",
      "0.48\n",
      "0.50\n"
     ]
    }
   ],
   "source": [
    "import numpy as np\n",
    "\n",
    "def compute_gini(class_frequencies):\n",
    "    probabilities = class_frequencies / np.sum(class_frequencies)\n",
    "    gini = 1 - np.sum(probabilities ** 2)\n",
    "    return gini\n",
    "\n",
    "class_dist_matrix = np.array([\n",
    "    [150, 0],\n",
    "    [10, 90],\n",
    "    [60, 40],\n",
    "    [50, 50]\n",
    "])\n",
    "\n",
    "for num_cases in range(len(class_dist_matrix)):\n",
    "    class_dist = class_dist_matrix[num_cases,:]\n",
    "    gini_impurity = compute_gini(class_dist)\n",
    "    print(\"{:.2f}\".format(gini_impurity))"
   ]
  }
 ],
 "metadata": {
  "kernelspec": {
   "display_name": "base",
   "language": "python",
   "name": "python3"
  },
  "language_info": {
   "codemirror_mode": {
    "name": "ipython",
    "version": 3
   },
   "file_extension": ".py",
   "mimetype": "text/x-python",
   "name": "python",
   "nbconvert_exporter": "python",
   "pygments_lexer": "ipython3",
   "version": "3.12.7"
  }
 },
 "nbformat": 4,
 "nbformat_minor": 5
}
