{
 "cells": [
  {
   "cell_type": "code",
   "execution_count": 18,
   "id": "3e6df016",
   "metadata": {},
   "outputs": [
    {
     "name": "stdout",
     "output_type": "stream",
     "text": [
      "Predictions: [1 1 0 0 1]\n",
      "Accuracy: 1.0\n"
     ]
    }
   ],
   "source": [
    "import numpy as np\n",
    "import pandas as pd\n",
    "from sklearn.datasets import make_classification\n",
    "from sklearn.linear_model import LogisticRegression\n",
    "from sklearn.model_selection import train_test_split\n",
    "from sklearn.metrics import accuracy_score\n",
    "\n",
    "def generate_dataset():\n",
    "    dataset = make_classification(n_samples=20, \n",
    "                                   n_features=1, \n",
    "                                   n_redundant=0, \n",
    "                                   n_repeated=0,\n",
    "                                   shift=30,\n",
    "                                   scale=10, \n",
    "                                   n_classes=2, \n",
    "                                   n_clusters_per_class=1, \n",
    "                                   n_informative=1,\n",
    "                                   class_sep=1, \n",
    "                                   random_state=1)\n",
    "    df = pd.DataFrame(dataset[0])\n",
    "    df = pd.concat([(np.ceil(df)).astype(int), pd.DataFrame(dataset[1])], axis=1)\n",
    "    df.columns = ['GRE_Score', 'Admission']\n",
    "    return df\n",
    "\n",
    "df = generate_dataset()\n",
    "x = df[['GRE_Score']]  \n",
    "y = df['Admission']\n",
    "\n",
    "x_train, x_test, y_train, y_test = train_test_split(x, y, test_size=0.25, random_state=42)\n",
    "\n",
    "logistic_regression = LogisticRegression()\n",
    "logistic_regression.fit(x_train, y_train)\n",
    "\n",
    "y_pred = logistic_regression.predict(x_test)\n",
    "accuracy = accuracy_score(y_test, y_pred)\n",
    "\n",
    "print(\"Predictions:\", y_pred)\n",
    "print(\"Accuracy:\", accuracy)"
   ]
  },
  {
   "cell_type": "markdown",
   "id": "31aa6c9d",
   "metadata": {},
   "source": [
    "## Decision Boundary"
   ]
  },
  {
   "cell_type": "code",
   "execution_count": 19,
   "id": "16b973cc",
   "metadata": {},
   "outputs": [
    {
     "data": {
      "image/png": "[encoded data removed]",
      "text/plain": [
       "<Figure size 640x480 with 1 Axes>"
      ]
     },
     "metadata": {},
     "output_type": "display_data"
    }
   ],
   "source": [
    "import numpy as np\n",
    "import pandas as pd\n",
    "import matplotlib.pyplot as plt\n",
    "from sklearn.datasets import make_classification\n",
    "from sklearn.linear_model import LogisticRegression\n",
    "from sklearn.model_selection import train_test_split\n",
    "from sklearn.metrics import accuracy_score\n",
    "from matplotlib.colors import ListedColormap\n",
    "\n",
    "def generate_dataset_2d():\n",
    "    dataset = make_classification(n_samples=20, \n",
    "                                   n_features=2, \n",
    "                                   n_redundant=0, \n",
    "                                   n_repeated=0,\n",
    "                                   shift=[31, 2.6],\n",
    "                                   scale=[10, 3], \n",
    "                                   n_classes=2, \n",
    "                                   n_clusters_per_class=1, \n",
    "                                   n_informative=2,\n",
    "                                   class_sep=0.9, \n",
    "                                   random_state=10)\n",
    "\n",
    "    y = pd.DataFrame(dataset[1])\n",
    "    y = np.where(y > 0.5, 0, 1)  # Flip label for demonstration\n",
    "    y = pd.DataFrame(y)\n",
    "    \n",
    "    df = pd.DataFrame(dataset[0])\n",
    "    df = pd.concat([df, y], axis=1)\n",
    "    df.columns = ['GRE_Score', 'CGPA', 'Admission']\n",
    "    \n",
    "    df.GRE_Score = np.ceil(df.GRE_Score).astype(int)\n",
    "    df.CGPA = np.around(df.CGPA, 1)\n",
    "    return df\n",
    "\n",
    "df = generate_dataset_2d()\n",
    "X = df[['GRE_Score', 'CGPA']].values\n",
    "y = df['Admission'].values\n",
    "\n",
    "logistic_regression = LogisticRegression()\n",
    "logistic_regression.fit(X, y)\n",
    "\n",
    "X1_min = X[:, 0].min()\n",
    "X1_max = X[:, 0].max()\n",
    "X2_min = X[:, 1].min()\n",
    "X2_max = X[:, 1].max()\n",
    "\n",
    "X1_mesh, X2_mesh = np.meshgrid(np.arange(X1_min - 1, X1_max + 1, 0.01),\n",
    "                               np.arange(X2_min - 0.1, X2_max + 0.1, 0.01))\n",
    "\n",
    "input_mesh = np.array([X1_mesh.ravel(), X2_mesh.ravel()]).T\n",
    "label_mesh = logistic_regression.predict(input_mesh)\n",
    "\n",
    "plt.contourf(X1_mesh, X2_mesh, label_mesh.reshape(X1_mesh.shape), \n",
    "             alpha=0.75, cmap=ListedColormap(('#FE6969', '#7F9AFD')))\n",
    "\n",
    "plt.scatter(X[:, 0], X[:, 1], c=y, cmap=ListedColormap(('red', 'blue')))\n",
    "plt.xlim(X1_min - 1, X1_max + 1)\n",
    "plt.ylim(X2_min - 0.5, X2_max + 0.5)\n",
    "\n",
    "plt.title('Logistic Regression Decision Boundary')\n",
    "plt.xlabel('GRE Score')\n",
    "plt.ylabel('CGPA')\n",
    "plt.show()"
   ]
  }
 ],
 "metadata": {
  "kernelspec": {
   "display_name": "base",
   "language": "python",
   "name": "python3"
  },
  "language_info": {
   "codemirror_mode": {
    "name": "ipython",
    "version": 3
   },
   "file_extension": ".py",
   "mimetype": "text/x-python",
   "name": "python",
   "nbconvert_exporter": "python",
   "pygments_lexer": "ipython3",
   "version": "3.12.7"
  }
 },
 "nbformat": 4,
 "nbformat_minor": 5
}
