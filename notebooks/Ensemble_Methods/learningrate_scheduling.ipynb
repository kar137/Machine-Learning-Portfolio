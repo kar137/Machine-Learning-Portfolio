{
 "cells": [
  {
   "cell_type": "markdown",
   "id": "cb6f0b29",
   "metadata": {},
   "source": [
    "# Learning Rate scheduling in pytorch"
   ]
  },
  {
   "cell_type": "code",
   "execution_count": 1,
   "id": "cd00d2fc",
   "metadata": {},
   "outputs": [],
   "source": [
    "import torch\n",
    "from torch import nn\n",
    "from torch.utils.data import DataLoader\n",
    "from torchvision import datasets\n",
    "from torchvision.transforms import ToTensor, Lambda\n",
    "import numpy as np"
   ]
  },
  {
   "cell_type": "markdown",
   "id": "3f36ec12",
   "metadata": {},
   "source": [
    "### Preparing DataLoaders"
   ]
  },
  {
   "cell_type": "code",
   "execution_count": 2,
   "id": "9613c281",
   "metadata": {},
   "outputs": [
    {
     "name": "stderr",
     "output_type": "stream",
     "text": [
      "100%|██████████| 26.4M/26.4M [00:18<00:00, 1.40MB/s]\n",
      "100%|██████████| 29.5k/29.5k [00:00<00:00, 152kB/s]\n",
      "100%|██████████| 4.42M/4.42M [00:01<00:00, 2.69MB/s]\n",
      "100%|██████████| 5.15k/5.15k [00:00<?, ?B/s]\n"
     ]
    }
   ],
   "source": [
    "training_data = datasets.FashionMNIST(\n",
    "    root=\"data\",\n",
    "    train=True,\n",
    "    download=True,\n",
    "    transform=ToTensor()\n",
    ")\n",
    "\n",
    "test_data = datasets.FashionMNIST(\n",
    "    root=\"data\",\n",
    "    train=False,\n",
    "    download=True,\n",
    "    transform=ToTensor()\n",
    ")\n",
    "\n",
    "train_dataloader = DataLoader(training_data, batch_size=16)\n",
    "test_dataloader = DataLoader(test_data, batch_size=16)\n",
    "# # Get cpu or gpu device for training.\n",
    "device = \"cuda\" if torch.cuda.is_available() else \"cpu\""
   ]
  },
  {
   "cell_type": "code",
   "execution_count": 3,
   "id": "0d01632e",
   "metadata": {},
   "outputs": [],
   "source": [
    "class NeuralNetwork(nn.Module):\n",
    "    def __init__(self):\n",
    "        super(NeuralNetwork, self).__init__()\n",
    "        self.flatten = nn.Flatten()\n",
    "        self.linear_relu_stack = nn.Sequential(\n",
    "            nn.Linear(28*28, 512),\n",
    "            nn.ReLU(),\n",
    "            nn.Linear(512, 512),\n",
    "            nn.ReLU(),\n",
    "            nn.Linear(512, 10),\n",
    "        )\n",
    "\n",
    "    def forward(self, x):\n",
    "        x = self.flatten(x)\n",
    "        logits = self.linear_relu_stack(x)\n",
    "        return logits\n",
    "\n",
    "model = NeuralNetwork()"
   ]
  },
  {
   "cell_type": "markdown",
   "id": "c0be5b21",
   "metadata": {},
   "source": [
    "### Exponential learning rate decay"
   ]
  },
  {
   "cell_type": "code",
   "execution_count": 4,
   "id": "5fe8eb82",
   "metadata": {},
   "outputs": [],
   "source": [
    "learning_rate = 1e-3\n",
    "batch_size = 16\n",
    "epochs = 5\n",
    "\n",
    "# Initialize the loss function\n",
    "loss_fn = nn.CrossEntropyLoss()\n",
    "\n",
    "optimizer = torch.optim.SGD(model.parameters(), lr=learning_rate)\n",
    "\n",
    "decayRate = 0.96\n",
    "exp_decay_lr_scheduler = torch.optim.lr_scheduler.ExponentialLR(optimizer=optimizer, gamma=decayRate)"
   ]
  },
  {
   "cell_type": "markdown",
   "id": "38b8030d",
   "metadata": {},
   "source": [
    "### Defining Training and Testing Loop"
   ]
  },
  {
   "cell_type": "code",
   "execution_count": 5,
   "id": "b62541d5",
   "metadata": {},
   "outputs": [],
   "source": [
    "def train_loop(dataloader, model, loss_fn, optimizer):\n",
    "    size = len(dataloader.dataset)\n",
    "    num_batches = len(dataloader)\n",
    "    train_loss = []\n",
    "    for batch, (X, y) in enumerate(dataloader):\n",
    "        # Compute prediction and loss\n",
    "        pred = model(X)\n",
    "        loss = loss_fn(pred, y)\n",
    "\n",
    "        # Backpropagation\n",
    "        optimizer.zero_grad()\n",
    "        loss.backward()\n",
    "        optimizer.step()\n",
    "\n",
    "        if batch % 100 == 0:\n",
    "            loss, current = loss.item(), batch * len(X)\n",
    "            train_loss.append(loss)\n",
    "            print(f\"loss: {loss:>7f}  [{current:>5d}/{size:>5d}]\")\n",
    "    exp_decay_lr_scheduler.step()\n",
    "    return np.average(train_loss)\n",
    "\n",
    "def test_loop(dataloader, model, loss_fn):\n",
    "    size = len(dataloader.dataset)\n",
    "    num_batches = len(dataloader)\n",
    "    test_loss, correct = 0, 0\n",
    "\n",
    "    with torch.no_grad():\n",
    "        for X, y in dataloader:\n",
    "            pred = model(X)\n",
    "            test_loss += loss_fn(pred, y).item()\n",
    "            correct += (pred.argmax(1) == y).type(torch.float).sum().item()\n",
    "\n",
    "    test_loss /= num_batches\n",
    "    correct /= size\n",
    "    print(f\"Test Error: \\n Accuracy: {(100*correct):>0.1f}%, Avg loss: {test_loss:>8f} \\n\")\n",
    "    return test_loss"
   ]
  },
  {
   "cell_type": "markdown",
   "id": "c090974e",
   "metadata": {},
   "source": [
    "### Model training"
   ]
  },
  {
   "cell_type": "code",
   "execution_count": 6,
   "id": "0735a333",
   "metadata": {},
   "outputs": [
    {
     "name": "stdout",
     "output_type": "stream",
     "text": [
      "Epoch 1\n",
      "-------------------------------\n",
      "loss: 2.299750  [    0/60000]\n",
      "loss: 2.288007  [ 1600/60000]\n",
      "loss: 2.284567  [ 3200/60000]\n",
      "loss: 2.266864  [ 4800/60000]\n",
      "loss: 2.262115  [ 6400/60000]\n",
      "loss: 2.249012  [ 8000/60000]\n",
      "loss: 2.222714  [ 9600/60000]\n",
      "loss: 2.204840  [11200/60000]\n",
      "loss: 2.209761  [12800/60000]\n",
      "loss: 2.175430  [14400/60000]\n",
      "loss: 2.169753  [16000/60000]\n",
      "loss: 2.149850  [17600/60000]\n",
      "loss: 2.136507  [19200/60000]\n",
      "loss: 2.117780  [20800/60000]\n",
      "loss: 2.113198  [22400/60000]\n",
      "loss: 2.048277  [24000/60000]\n",
      "loss: 2.010254  [25600/60000]\n",
      "loss: 2.093750  [27200/60000]\n",
      "loss: 1.976246  [28800/60000]\n",
      "loss: 1.971360  [30400/60000]\n",
      "loss: 1.854783  [32000/60000]\n",
      "loss: 1.820587  [33600/60000]\n",
      "loss: 1.716433  [35200/60000]\n",
      "loss: 1.831032  [36800/60000]\n",
      "loss: 1.880657  [38400/60000]\n",
      "loss: 1.671282  [40000/60000]\n",
      "loss: 1.645874  [41600/60000]\n",
      "loss: 1.725422  [43200/60000]\n",
      "loss: 1.456807  [44800/60000]\n",
      "loss: 1.546247  [46400/60000]\n",
      "loss: 1.623062  [48000/60000]\n",
      "loss: 1.389457  [49600/60000]\n",
      "loss: 1.464907  [51200/60000]\n",
      "loss: 1.420421  [52800/60000]\n",
      "loss: 1.354658  [54400/60000]\n",
      "loss: 1.401004  [56000/60000]\n",
      "loss: 1.343867  [57600/60000]\n",
      "loss: 1.098998  [59200/60000]\n",
      "Test Error: \n",
      " Accuracy: 61.1%, Avg loss: 1.308710 \n",
      "\n",
      "Epoch 2\n",
      "-------------------------------\n",
      "loss: 1.342572  [    0/60000]\n",
      "loss: 1.196272  [ 1600/60000]\n",
      "loss: 1.254382  [ 3200/60000]\n",
      "loss: 1.281431  [ 4800/60000]\n",
      "loss: 1.177222  [ 6400/60000]\n",
      "loss: 1.320460  [ 8000/60000]\n",
      "loss: 1.259096  [ 9600/60000]\n",
      "loss: 1.104793  [11200/60000]\n",
      "loss: 1.158123  [12800/60000]\n",
      "loss: 1.156236  [14400/60000]\n",
      "loss: 1.204982  [16000/60000]\n",
      "loss: 1.039146  [17600/60000]\n",
      "loss: 0.932332  [19200/60000]\n",
      "loss: 1.433904  [20800/60000]\n",
      "loss: 1.135232  [22400/60000]\n",
      "loss: 1.114015  [24000/60000]\n",
      "loss: 0.900769  [25600/60000]\n",
      "loss: 1.197973  [27200/60000]\n",
      "loss: 1.163528  [28800/60000]\n",
      "loss: 1.066545  [30400/60000]\n",
      "loss: 0.963741  [32000/60000]\n",
      "loss: 0.709941  [33600/60000]\n",
      "loss: 0.800599  [35200/60000]\n",
      "loss: 1.026522  [36800/60000]\n",
      "loss: 1.272010  [38400/60000]\n",
      "loss: 0.844520  [40000/60000]\n",
      "loss: 0.928657  [41600/60000]\n",
      "loss: 0.952242  [43200/60000]\n",
      "loss: 0.694873  [44800/60000]\n",
      "loss: 0.883074  [46400/60000]\n",
      "loss: 0.897619  [48000/60000]\n",
      "loss: 0.773755  [49600/60000]\n",
      "loss: 0.807652  [51200/60000]\n",
      "loss: 0.855284  [52800/60000]\n",
      "loss: 0.879240  [54400/60000]\n",
      "loss: 1.102521  [56000/60000]\n",
      "loss: 0.897519  [57600/60000]\n",
      "loss: 0.639103  [59200/60000]\n",
      "Test Error: \n",
      " Accuracy: 67.4%, Avg loss: 0.890478 \n",
      "\n",
      "Epoch 3\n",
      "-------------------------------\n",
      "loss: 0.888448  [    0/60000]\n",
      "loss: 0.760706  [ 1600/60000]\n",
      "loss: 0.794174  [ 3200/60000]\n",
      "loss: 0.867597  [ 4800/60000]\n",
      "loss: 0.757682  [ 6400/60000]\n",
      "loss: 0.945887  [ 8000/60000]\n",
      "loss: 0.937705  [ 9600/60000]\n",
      "loss: 0.687754  [11200/60000]\n",
      "loss: 0.849038  [12800/60000]\n",
      "loss: 0.779580  [14400/60000]\n",
      "loss: 0.921785  [16000/60000]\n",
      "loss: 0.697711  [17600/60000]\n",
      "loss: 0.633179  [19200/60000]\n",
      "loss: 1.335358  [20800/60000]\n",
      "loss: 0.837893  [22400/60000]\n",
      "loss: 0.887684  [24000/60000]\n",
      "loss: 0.621659  [25600/60000]\n",
      "loss: 0.998502  [27200/60000]\n",
      "loss: 1.064240  [28800/60000]\n",
      "loss: 0.782876  [30400/60000]\n",
      "loss: 0.761256  [32000/60000]\n",
      "loss: 0.460199  [33600/60000]\n",
      "loss: 0.554504  [35200/60000]\n",
      "loss: 0.788243  [36800/60000]\n",
      "loss: 1.170804  [38400/60000]\n",
      "loss: 0.702406  [40000/60000]\n",
      "loss: 0.787707  [41600/60000]\n",
      "loss: 0.729445  [43200/60000]\n",
      "loss: 0.534087  [44800/60000]\n",
      "loss: 0.699012  [46400/60000]\n",
      "loss: 0.700135  [48000/60000]\n",
      "loss: 0.604882  [49600/60000]\n",
      "loss: 0.608843  [51200/60000]\n",
      "loss: 0.693398  [52800/60000]\n",
      "loss: 0.758868  [54400/60000]\n",
      "loss: 1.017559  [56000/60000]\n",
      "loss: 0.806945  [57600/60000]\n",
      "loss: 0.542073  [59200/60000]\n",
      "Test Error: \n",
      " Accuracy: 72.0%, Avg loss: 0.764759 \n",
      "\n",
      "Epoch 4\n",
      "-------------------------------\n",
      "loss: 0.772672  [    0/60000]\n",
      "loss: 0.647336  [ 1600/60000]\n",
      "loss: 0.686525  [ 3200/60000]\n",
      "loss: 0.708726  [ 4800/60000]\n",
      "loss: 0.620878  [ 6400/60000]\n",
      "loss: 0.792615  [ 8000/60000]\n",
      "loss: 0.813457  [ 9600/60000]\n",
      "loss: 0.534158  [11200/60000]\n",
      "loss: 0.744645  [12800/60000]\n",
      "loss: 0.584907  [14400/60000]\n",
      "loss: 0.840386  [16000/60000]\n",
      "loss: 0.564746  [17600/60000]\n",
      "loss: 0.525035  [19200/60000]\n",
      "loss: 1.234701  [20800/60000]\n",
      "loss: 0.699265  [22400/60000]\n",
      "loss: 0.798848  [24000/60000]\n",
      "loss: 0.541098  [25600/60000]\n",
      "loss: 0.940111  [27200/60000]\n",
      "loss: 0.997265  [28800/60000]\n",
      "loss: 0.659789  [30400/60000]\n",
      "loss: 0.717726  [32000/60000]\n",
      "loss: 0.370560  [33600/60000]\n",
      "loss: 0.454966  [35200/60000]\n",
      "loss: 0.670075  [36800/60000]\n",
      "loss: 1.057096  [38400/60000]\n",
      "loss: 0.683051  [40000/60000]\n",
      "loss: 0.734088  [41600/60000]\n",
      "loss: 0.632722  [43200/60000]\n",
      "loss: 0.483644  [44800/60000]\n",
      "loss: 0.626035  [46400/60000]\n",
      "loss: 0.589951  [48000/60000]\n",
      "loss: 0.532535  [49600/60000]\n",
      "loss: 0.498032  [51200/60000]\n",
      "loss: 0.600889  [52800/60000]\n",
      "loss: 0.707442  [54400/60000]\n",
      "loss: 0.926701  [56000/60000]\n",
      "loss: 0.768238  [57600/60000]\n",
      "loss: 0.497519  [59200/60000]\n",
      "Test Error: \n",
      " Accuracy: 75.1%, Avg loss: 0.696304 \n",
      "\n",
      "Epoch 5\n",
      "-------------------------------\n",
      "loss: 0.693062  [    0/60000]\n",
      "loss: 0.596715  [ 1600/60000]\n",
      "loss: 0.640402  [ 3200/60000]\n",
      "loss: 0.616414  [ 4800/60000]\n",
      "loss: 0.537932  [ 6400/60000]\n",
      "loss: 0.704344  [ 8000/60000]\n",
      "loss: 0.739513  [ 9600/60000]\n",
      "loss: 0.454601  [11200/60000]\n",
      "loss: 0.667371  [12800/60000]\n",
      "loss: 0.466228  [14400/60000]\n",
      "loss: 0.804681  [16000/60000]\n",
      "loss: 0.477634  [17600/60000]\n",
      "loss: 0.460735  [19200/60000]\n",
      "loss: 1.163660  [20800/60000]\n",
      "loss: 0.603680  [22400/60000]\n",
      "loss: 0.746503  [24000/60000]\n",
      "loss: 0.511171  [25600/60000]\n",
      "loss: 0.892793  [27200/60000]\n",
      "loss: 0.927286  [28800/60000]\n",
      "loss: 0.586389  [30400/60000]\n",
      "loss: 0.704264  [32000/60000]\n",
      "loss: 0.320720  [33600/60000]\n",
      "loss: 0.393801  [35200/60000]\n",
      "loss: 0.592208  [36800/60000]\n",
      "loss: 0.944664  [38400/60000]\n",
      "loss: 0.689638  [40000/60000]\n",
      "loss: 0.699906  [41600/60000]\n",
      "loss: 0.573302  [43200/60000]\n",
      "loss: 0.459576  [44800/60000]\n",
      "loss: 0.579927  [46400/60000]\n",
      "loss: 0.516315  [48000/60000]\n",
      "loss: 0.492732  [49600/60000]\n",
      "loss: 0.420636  [51200/60000]\n",
      "loss: 0.529710  [52800/60000]\n",
      "loss: 0.679612  [54400/60000]\n",
      "loss: 0.834798  [56000/60000]\n",
      "loss: 0.738039  [57600/60000]\n",
      "loss: 0.459822  [59200/60000]\n",
      "Test Error: \n",
      " Accuracy: 77.5%, Avg loss: 0.648487 \n",
      "\n",
      "Done!\n"
     ]
    }
   ],
   "source": [
    "train_losses, val_losses = [], []\n",
    "\n",
    "epochs = 5\n",
    "for t in range(epochs):\n",
    "    print(f\"Epoch {t+1}\\n-------------------------------\")\n",
    "    avg_train_loss = train_loop(train_dataloader, model, loss_fn, optimizer)\n",
    "    avg_test_loss = test_loop(test_dataloader, model, loss_fn)\n",
    "\n",
    "    train_losses.append(avg_train_loss)\n",
    "    val_losses.append(avg_test_loss)\n",
    "\n",
    "print(\"Done!\")\n"
   ]
  },
  {
   "cell_type": "code",
   "execution_count": 7,
   "id": "7b2f90a8",
   "metadata": {},
   "outputs": [
    {
     "data": {
      "text/plain": [
       "<matplotlib.legend.Legend at 0x25e6729bbf0>"
      ]
     },
     "execution_count": 7,
     "metadata": {},
     "output_type": "execute_result"
    },
    {
     "data": {
      "image/png": "[encoded data removed]",
      "text/plain": [
       "<Figure size 640x480 with 1 Axes>"
      ]
     },
     "metadata": {},
     "output_type": "display_data"
    }
   ],
   "source": [
    "#loss plot\n",
    "import matplotlib.pyplot as plt\n",
    "plt.style.use('fivethirtyeight')\n",
    "plt.plot(train_losses,label='loss')\n",
    "plt.plot(val_losses,label='val loss')\n",
    "plt.ylabel('loss')\n",
    "plt.xlabel('epoch')\n",
    "plt.legend()"
   ]
  },
  {
   "cell_type": "markdown",
   "id": "0de8d88c",
   "metadata": {},
   "source": [
    "# Learning rate scheduling with TensorFlow(Keras)"
   ]
  },
  {
   "cell_type": "code",
   "execution_count": 3,
   "id": "3be35fe3",
   "metadata": {},
   "outputs": [
    {
     "data": {
      "text/plain": [
       "'2.19.0'"
      ]
     },
     "execution_count": 3,
     "metadata": {},
     "output_type": "execute_result"
    }
   ],
   "source": [
    "import tensorflow as tf\n",
    "from sklearn import model_selection as ms\n",
    "\n",
    "# here we import Sequential where we can add or stack different layer of neural network\n",
    "from tensorflow.keras.models import Sequential\n",
    "# Dense layer implements operation = activation(dot(input,weight)+bias)\n",
    "from tensorflow.keras.layers import Dense, Softmax, Dropout\n",
    "\n",
    "tf.__version__"
   ]
  },
  {
   "cell_type": "code",
   "execution_count": 4,
   "id": "0cc50e49",
   "metadata": {},
   "outputs": [
    {
     "name": "stdout",
     "output_type": "stream",
     "text": [
      "Downloading data from https://storage.googleapis.com/tensorflow/tf-keras-datasets/train-labels-idx1-ubyte.gz\n",
      "\u001b[1m29515/29515\u001b[0m \u001b[32m━━━━━━━━━━━━━━━━━━━━\u001b[0m\u001b[37m\u001b[0m \u001b[1m0s\u001b[0m 1us/step\n",
      "Downloading data from https://storage.googleapis.com/tensorflow/tf-keras-datasets/train-images-idx3-ubyte.gz\n",
      "\u001b[1m26421880/26421880\u001b[0m \u001b[32m━━━━━━━━━━━━━━━━━━━━\u001b[0m\u001b[37m\u001b[0m \u001b[1m4s\u001b[0m 0us/step\n",
      "Downloading data from https://storage.googleapis.com/tensorflow/tf-keras-datasets/t10k-labels-idx1-ubyte.gz\n",
      "\u001b[1m5148/5148\u001b[0m \u001b[32m━━━━━━━━━━━━━━━━━━━━\u001b[0m\u001b[37m\u001b[0m \u001b[1m0s\u001b[0m 0us/step\n",
      "Downloading data from https://storage.googleapis.com/tensorflow/tf-keras-datasets/t10k-images-idx3-ubyte.gz\n",
      "\u001b[1m4422102/4422102\u001b[0m \u001b[32m━━━━━━━━━━━━━━━━━━━━\u001b[0m\u001b[37m\u001b[0m \u001b[1m1s\u001b[0m 0us/step\n",
      "Train (48000, 784) (48000,)\n",
      "Test (10000, 784) (10000,)\n",
      "Validation (12000, 784) (12000,)\n"
     ]
    }
   ],
   "source": [
    "(x_train, y_train), (x_test, y_test) = tf.keras.datasets.fashion_mnist.load_data()\n",
    "x_train = x_train.reshape(-1,28*28)/255\n",
    "x_test = x_test.reshape(-1,28*28)/255\n",
    "x_train,x_val,y_train,y_val=ms.train_test_split(x_train,y_train,test_size=0.2,random_state=42)\n",
    "print(\"Train\",x_train.shape,y_train.shape)\n",
    "print(\"Test\",x_test.shape,y_test.shape)\n",
    "print(\"Validation\",x_val.shape,y_val.shape)"
   ]
  },
  {
   "cell_type": "markdown",
   "id": "2cd9b259",
   "metadata": {},
   "source": [
    "### Define Model (classifier)"
   ]
  },
  {
   "cell_type": "code",
   "execution_count": 5,
   "id": "de9471ed",
   "metadata": {},
   "outputs": [
    {
     "name": "stderr",
     "output_type": "stream",
     "text": [
      "C:\\Users\\Dell\\AppData\\Roaming\\Python\\Python312\\site-packages\\keras\\src\\layers\\core\\dense.py:93: UserWarning: Do not pass an `input_shape`/`input_dim` argument to a layer. When using Sequential models, prefer using an `Input(shape)` object as the first layer in the model instead.\n",
      "  super().__init__(activity_regularizer=activity_regularizer, **kwargs)\n"
     ]
    }
   ],
   "source": [
    "#defining number of neurons at different layer, number of layer ,input and output size\n",
    "#why input size is 784 and output is 10? discussed above\n",
    "input_size=784\n",
    "hidden_1_shape=256\n",
    "hidden_2_shape=128\n",
    "hidden_3_shape=50\n",
    "output_size=10\n",
    "\n",
    "\n",
    "model=Sequential([Dense(hidden_1_shape,input_shape=(input_size,), activation=\"relu\"),\n",
    "                  Dropout(0.2),\n",
    "                  Dense(hidden_2_shape, activation=\"relu\"),\n",
    "                  Dropout(0.2),\n",
    "                  Dense(hidden_3_shape, activation=\"relu\"),\n",
    "                  Dropout(0.2),\n",
    "                  Dense(output_size),\n",
    "                  Softmax()])"
   ]
  },
  {
   "cell_type": "markdown",
   "id": "9ccb137b",
   "metadata": {},
   "source": [
    "### Implement Exponential Learning Rate Decay in optimizer"
   ]
  },
  {
   "cell_type": "code",
   "execution_count": 6,
   "id": "c1e9f3d8",
   "metadata": {},
   "outputs": [
    {
     "data": {
      "text/html": [
       "<pre style=\"white-space:pre;overflow-x:auto;line-height:normal;font-family:Menlo,'DejaVu Sans Mono',consolas,'Courier New',monospace\"><span style=\"font-weight: bold\">Model: \"sequential\"</span>\n",
       "</pre>\n"
      ],
      "text/plain": [
       "\u001b[1mModel: \"sequential\"\u001b[0m\n"
      ]
     },
     "metadata": {},
     "output_type": "display_data"
    },
    {
     "data": {
      "text/html": [
       "<pre style=\"white-space:pre;overflow-x:auto;line-height:normal;font-family:Menlo,'DejaVu Sans Mono',consolas,'Courier New',monospace\">┏━━━━━━━━━━━━━━━━━━━━━━━━━━━━━━━━━┳━━━━━━━━━━━━━━━━━━━━━━━━┳━━━━━━━━━━━━━━━┓\n",
       "┃<span style=\"font-weight: bold\"> Layer (type)                    </span>┃<span style=\"font-weight: bold\"> Output Shape           </span>┃<span style=\"font-weight: bold\">       Param # </span>┃\n",
       "┡━━━━━━━━━━━━━━━━━━━━━━━━━━━━━━━━━╇━━━━━━━━━━━━━━━━━━━━━━━━╇━━━━━━━━━━━━━━━┩\n",
       "│ dense (<span style=\"color: #0087ff; text-decoration-color: #0087ff\">Dense</span>)                   │ (<span style=\"color: #00d7ff; text-decoration-color: #00d7ff\">None</span>, <span style=\"color: #00af00; text-decoration-color: #00af00\">256</span>)            │       <span style=\"color: #00af00; text-decoration-color: #00af00\">200,960</span> │\n",
       "├─────────────────────────────────┼────────────────────────┼───────────────┤\n",
       "│ dropout (<span style=\"color: #0087ff; text-decoration-color: #0087ff\">Dropout</span>)               │ (<span style=\"color: #00d7ff; text-decoration-color: #00d7ff\">None</span>, <span style=\"color: #00af00; text-decoration-color: #00af00\">256</span>)            │             <span style=\"color: #00af00; text-decoration-color: #00af00\">0</span> │\n",
       "├─────────────────────────────────┼────────────────────────┼───────────────┤\n",
       "│ dense_1 (<span style=\"color: #0087ff; text-decoration-color: #0087ff\">Dense</span>)                 │ (<span style=\"color: #00d7ff; text-decoration-color: #00d7ff\">None</span>, <span style=\"color: #00af00; text-decoration-color: #00af00\">128</span>)            │        <span style=\"color: #00af00; text-decoration-color: #00af00\">32,896</span> │\n",
       "├─────────────────────────────────┼────────────────────────┼───────────────┤\n",
       "│ dropout_1 (<span style=\"color: #0087ff; text-decoration-color: #0087ff\">Dropout</span>)             │ (<span style=\"color: #00d7ff; text-decoration-color: #00d7ff\">None</span>, <span style=\"color: #00af00; text-decoration-color: #00af00\">128</span>)            │             <span style=\"color: #00af00; text-decoration-color: #00af00\">0</span> │\n",
       "├─────────────────────────────────┼────────────────────────┼───────────────┤\n",
       "│ dense_2 (<span style=\"color: #0087ff; text-decoration-color: #0087ff\">Dense</span>)                 │ (<span style=\"color: #00d7ff; text-decoration-color: #00d7ff\">None</span>, <span style=\"color: #00af00; text-decoration-color: #00af00\">50</span>)             │         <span style=\"color: #00af00; text-decoration-color: #00af00\">6,450</span> │\n",
       "├─────────────────────────────────┼────────────────────────┼───────────────┤\n",
       "│ dropout_2 (<span style=\"color: #0087ff; text-decoration-color: #0087ff\">Dropout</span>)             │ (<span style=\"color: #00d7ff; text-decoration-color: #00d7ff\">None</span>, <span style=\"color: #00af00; text-decoration-color: #00af00\">50</span>)             │             <span style=\"color: #00af00; text-decoration-color: #00af00\">0</span> │\n",
       "├─────────────────────────────────┼────────────────────────┼───────────────┤\n",
       "│ dense_3 (<span style=\"color: #0087ff; text-decoration-color: #0087ff\">Dense</span>)                 │ (<span style=\"color: #00d7ff; text-decoration-color: #00d7ff\">None</span>, <span style=\"color: #00af00; text-decoration-color: #00af00\">10</span>)             │           <span style=\"color: #00af00; text-decoration-color: #00af00\">510</span> │\n",
       "├─────────────────────────────────┼────────────────────────┼───────────────┤\n",
       "│ softmax (<span style=\"color: #0087ff; text-decoration-color: #0087ff\">Softmax</span>)               │ (<span style=\"color: #00d7ff; text-decoration-color: #00d7ff\">None</span>, <span style=\"color: #00af00; text-decoration-color: #00af00\">10</span>)             │             <span style=\"color: #00af00; text-decoration-color: #00af00\">0</span> │\n",
       "└─────────────────────────────────┴────────────────────────┴───────────────┘\n",
       "</pre>\n"
      ],
      "text/plain": [
       "┏━━━━━━━━━━━━━━━━━━━━━━━━━━━━━━━━━┳━━━━━━━━━━━━━━━━━━━━━━━━┳━━━━━━━━━━━━━━━┓\n",
       "┃\u001b[1m \u001b[0m\u001b[1mLayer (type)                   \u001b[0m\u001b[1m \u001b[0m┃\u001b[1m \u001b[0m\u001b[1mOutput Shape          \u001b[0m\u001b[1m \u001b[0m┃\u001b[1m \u001b[0m\u001b[1m      Param #\u001b[0m\u001b[1m \u001b[0m┃\n",
       "┡━━━━━━━━━━━━━━━━━━━━━━━━━━━━━━━━━╇━━━━━━━━━━━━━━━━━━━━━━━━╇━━━━━━━━━━━━━━━┩\n",
       "│ dense (\u001b[38;5;33mDense\u001b[0m)                   │ (\u001b[38;5;45mNone\u001b[0m, \u001b[38;5;34m256\u001b[0m)            │       \u001b[38;5;34m200,960\u001b[0m │\n",
       "├─────────────────────────────────┼────────────────────────┼───────────────┤\n",
       "│ dropout (\u001b[38;5;33mDropout\u001b[0m)               │ (\u001b[38;5;45mNone\u001b[0m, \u001b[38;5;34m256\u001b[0m)            │             \u001b[38;5;34m0\u001b[0m │\n",
       "├─────────────────────────────────┼────────────────────────┼───────────────┤\n",
       "│ dense_1 (\u001b[38;5;33mDense\u001b[0m)                 │ (\u001b[38;5;45mNone\u001b[0m, \u001b[38;5;34m128\u001b[0m)            │        \u001b[38;5;34m32,896\u001b[0m │\n",
       "├─────────────────────────────────┼────────────────────────┼───────────────┤\n",
       "│ dropout_1 (\u001b[38;5;33mDropout\u001b[0m)             │ (\u001b[38;5;45mNone\u001b[0m, \u001b[38;5;34m128\u001b[0m)            │             \u001b[38;5;34m0\u001b[0m │\n",
       "├─────────────────────────────────┼────────────────────────┼───────────────┤\n",
       "│ dense_2 (\u001b[38;5;33mDense\u001b[0m)                 │ (\u001b[38;5;45mNone\u001b[0m, \u001b[38;5;34m50\u001b[0m)             │         \u001b[38;5;34m6,450\u001b[0m │\n",
       "├─────────────────────────────────┼────────────────────────┼───────────────┤\n",
       "│ dropout_2 (\u001b[38;5;33mDropout\u001b[0m)             │ (\u001b[38;5;45mNone\u001b[0m, \u001b[38;5;34m50\u001b[0m)             │             \u001b[38;5;34m0\u001b[0m │\n",
       "├─────────────────────────────────┼────────────────────────┼───────────────┤\n",
       "│ dense_3 (\u001b[38;5;33mDense\u001b[0m)                 │ (\u001b[38;5;45mNone\u001b[0m, \u001b[38;5;34m10\u001b[0m)             │           \u001b[38;5;34m510\u001b[0m │\n",
       "├─────────────────────────────────┼────────────────────────┼───────────────┤\n",
       "│ softmax (\u001b[38;5;33mSoftmax\u001b[0m)               │ (\u001b[38;5;45mNone\u001b[0m, \u001b[38;5;34m10\u001b[0m)             │             \u001b[38;5;34m0\u001b[0m │\n",
       "└─────────────────────────────────┴────────────────────────┴───────────────┘\n"
      ]
     },
     "metadata": {},
     "output_type": "display_data"
    },
    {
     "data": {
      "text/html": [
       "<pre style=\"white-space:pre;overflow-x:auto;line-height:normal;font-family:Menlo,'DejaVu Sans Mono',consolas,'Courier New',monospace\"><span style=\"font-weight: bold\"> Total params: </span><span style=\"color: #00af00; text-decoration-color: #00af00\">240,816</span> (940.69 KB)\n",
       "</pre>\n"
      ],
      "text/plain": [
       "\u001b[1m Total params: \u001b[0m\u001b[38;5;34m240,816\u001b[0m (940.69 KB)\n"
      ]
     },
     "metadata": {},
     "output_type": "display_data"
    },
    {
     "data": {
      "text/html": [
       "<pre style=\"white-space:pre;overflow-x:auto;line-height:normal;font-family:Menlo,'DejaVu Sans Mono',consolas,'Courier New',monospace\"><span style=\"font-weight: bold\"> Trainable params: </span><span style=\"color: #00af00; text-decoration-color: #00af00\">240,816</span> (940.69 KB)\n",
       "</pre>\n"
      ],
      "text/plain": [
       "\u001b[1m Trainable params: \u001b[0m\u001b[38;5;34m240,816\u001b[0m (940.69 KB)\n"
      ]
     },
     "metadata": {},
     "output_type": "display_data"
    },
    {
     "data": {
      "text/html": [
       "<pre style=\"white-space:pre;overflow-x:auto;line-height:normal;font-family:Menlo,'DejaVu Sans Mono',consolas,'Courier New',monospace\"><span style=\"font-weight: bold\"> Non-trainable params: </span><span style=\"color: #00af00; text-decoration-color: #00af00\">0</span> (0.00 B)\n",
       "</pre>\n"
      ],
      "text/plain": [
       "\u001b[1m Non-trainable params: \u001b[0m\u001b[38;5;34m0\u001b[0m (0.00 B)\n"
      ]
     },
     "metadata": {},
     "output_type": "display_data"
    }
   ],
   "source": [
    "initial_learning_rate = 0.1\n",
    "lr_schedule = tf.keras.optimizers.schedules.ExponentialDecay(initial_learning_rate,\n",
    "                                                             decay_steps=20,\n",
    "                                                             decay_rate=0.96,   # 0.1 * 0.96 = new_learning_rate\n",
    "                                                             staircase=True)\n",
    "model.compile(optimizer=tf.keras.optimizers.SGD(learning_rate=lr_schedule),\n",
    "              loss='sparse_categorical_crossentropy',\n",
    "              metrics=['accuracy'])\n",
    "model.summary()"
   ]
  },
  {
   "cell_type": "code",
   "execution_count": 7,
   "id": "7075b124",
   "metadata": {},
   "outputs": [
    {
     "name": "stdout",
     "output_type": "stream",
     "text": [
      "Epoch 1/5\n",
      "\u001b[1m375/375\u001b[0m \u001b[32m━━━━━━━━━━━━━━━━━━━━\u001b[0m\u001b[37m\u001b[0m \u001b[1m3s\u001b[0m 5ms/step - accuracy: 0.5971 - loss: 1.1254 - val_accuracy: 0.8112 - val_loss: 0.5331\n",
      "Epoch 2/5\n",
      "\u001b[1m375/375\u001b[0m \u001b[32m━━━━━━━━━━━━━━━━━━━━\u001b[0m\u001b[37m\u001b[0m \u001b[1m1s\u001b[0m 4ms/step - accuracy: 0.7857 - loss: 0.6046 - val_accuracy: 0.8286 - val_loss: 0.4799\n",
      "Epoch 3/5\n",
      "\u001b[1m375/375\u001b[0m \u001b[32m━━━━━━━━━━━━━━━━━━━━\u001b[0m\u001b[37m\u001b[0m \u001b[1m1s\u001b[0m 3ms/step - accuracy: 0.8069 - loss: 0.5489 - val_accuracy: 0.8334 - val_loss: 0.4605\n",
      "Epoch 4/5\n",
      "\u001b[1m375/375\u001b[0m \u001b[32m━━━━━━━━━━━━━━━━━━━━\u001b[0m\u001b[37m\u001b[0m \u001b[1m1s\u001b[0m 3ms/step - accuracy: 0.8133 - loss: 0.5275 - val_accuracy: 0.8364 - val_loss: 0.4518\n",
      "Epoch 5/5\n",
      "\u001b[1m375/375\u001b[0m \u001b[32m━━━━━━━━━━━━━━━━━━━━\u001b[0m\u001b[37m\u001b[0m \u001b[1m1s\u001b[0m 4ms/step - accuracy: 0.8183 - loss: 0.5187 - val_accuracy: 0.8369 - val_loss: 0.4489\n"
     ]
    }
   ],
   "source": [
    "#training model\n",
    "history = model.fit(x_train,y_train,batch_size=128,\n",
    "          validation_data=(x_val,y_val),epochs=5)"
   ]
  },
  {
   "cell_type": "code",
   "execution_count": 8,
   "id": "71c6665d",
   "metadata": {},
   "outputs": [
    {
     "name": "stdout",
     "output_type": "stream",
     "text": [
      "79/79 - 0s - 3ms/step - accuracy: 0.8307 - loss: 0.4653\n",
      "loss =  0.4652872681617737 , accuracy =  0.8306999802589417\n"
     ]
    }
   ],
   "source": [
    "# calculating total loss and accuracy in test set\n",
    "loss, accuracy=model.evaluate(x=x_test, y=y_test, batch_size=128,verbose=2)\n",
    "print('loss = ',loss, ', accuracy = ',accuracy)"
   ]
  },
  {
   "cell_type": "code",
   "execution_count": 9,
   "id": "a5da4507",
   "metadata": {},
   "outputs": [
    {
     "name": "stdout",
     "output_type": "stream",
     "text": [
      "\u001b[1m313/313\u001b[0m \u001b[32m━━━━━━━━━━━━━━━━━━━━\u001b[0m\u001b[37m\u001b[0m \u001b[1m0s\u001b[0m 1ms/step\n"
     ]
    },
    {
     "data": {
      "text/plain": [
       "<matplotlib.legend.Legend at 0x1974b6d7ad0>"
      ]
     },
     "execution_count": 9,
     "metadata": {},
     "output_type": "execute_result"
    },
    {
     "data": {
      "image/png": "[encoded data removed]",
      "text/plain": [
       "<Figure size 640x480 with 1 Axes>"
      ]
     },
     "metadata": {},
     "output_type": "display_data"
    }
   ],
   "source": [
    "# predicting value at final layer for each example\n",
    "prediction=model.predict(x_test)\n",
    "# choosing class with highest probability\n",
    "predicted=tf.argmax(prediction,axis=1)\n",
    "predicted.shape\n",
    "\n",
    "# accuracy plots.\n",
    "import matplotlib.pyplot as plt\n",
    "plt.style.use('fivethirtyeight')\n",
    "plt.plot(history.history['accuracy'],label='accuracy')\n",
    "plt.plot(history.history['val_accuracy'],label='val accuracy')\n",
    "plt.ylabel('accuracy')\n",
    "plt.xlabel('epoch')\n",
    "plt.legend()"
   ]
  },
  {
   "cell_type": "code",
   "execution_count": 10,
   "id": "f74f40bb",
   "metadata": {},
   "outputs": [
    {
     "data": {
      "text/plain": [
       "<matplotlib.legend.Legend at 0x1974ee5ede0>"
      ]
     },
     "execution_count": 10,
     "metadata": {},
     "output_type": "execute_result"
    },
    {
     "data": {
      "image/png": "[encoded data removed]",
      "text/plain": [
       "<Figure size 640x480 with 1 Axes>"
      ]
     },
     "metadata": {},
     "output_type": "display_data"
    }
   ],
   "source": [
    "#loss plot\n",
    "plt.plot(history.history['loss'],label='loss')\n",
    "plt.plot(history.history['val_loss'],label='val loss')\n",
    "plt.ylabel('loss')\n",
    "plt.xlabel('epoch')\n",
    "plt.legend()"
   ]
  },
  {
   "cell_type": "code",
   "execution_count": null,
   "id": "d84315e5",
   "metadata": {},
   "outputs": [],
   "source": []
  }
 ],
 "metadata": {
  "kernelspec": {
   "display_name": "base",
   "language": "python",
   "name": "python3"
  },
  "language_info": {
   "codemirror_mode": {
    "name": "ipython",
    "version": 3
   },
   "file_extension": ".py",
   "mimetype": "text/x-python",
   "name": "python",
   "nbconvert_exporter": "python",
   "pygments_lexer": "ipython3",
   "version": "3.12.7"
  }
 },
 "nbformat": 4,
 "nbformat_minor": 5
}
